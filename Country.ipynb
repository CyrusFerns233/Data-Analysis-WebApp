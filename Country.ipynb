{
 "cells": [
  {
   "cell_type": "code",
   "execution_count": 1,
   "metadata": {},
   "outputs": [],
   "source": [
    "import pandas as pd\n",
    "import numpy as np\n",
    "import matplotlib.pyplot as plt\n",
    "import seaborn as sns\n",
    "pd.set_option('display.max_columns', None)"
   ]
  },
  {
   "cell_type": "code",
   "execution_count": 2,
   "metadata": {},
   "outputs": [],
   "source": [
    "df = pd.read_csv('country_profile_variables.csv')"
   ]
  },
  {
   "cell_type": "code",
   "execution_count": 3,
   "metadata": {},
   "outputs": [
    {
     "data": {
      "text/plain": [
       "(229, 50)"
      ]
     },
     "execution_count": 3,
     "metadata": {},
     "output_type": "execute_result"
    }
   ],
   "source": [
    "df.shape"
   ]
  },
  {
   "attachments": {},
   "cell_type": "markdown",
   "metadata": {},
   "source": [
    "## Basic Preprocessing"
   ]
  },
  {
   "cell_type": "code",
   "execution_count": 4,
   "metadata": {},
   "outputs": [
    {
     "data": {
      "text/html": [
       "<div>\n",
       "<style scoped>\n",
       "    .dataframe tbody tr th:only-of-type {\n",
       "        vertical-align: middle;\n",
       "    }\n",
       "\n",
       "    .dataframe tbody tr th {\n",
       "        vertical-align: top;\n",
       "    }\n",
       "\n",
       "    .dataframe thead th {\n",
       "        text-align: right;\n",
       "    }\n",
       "</style>\n",
       "<table border=\"1\" class=\"dataframe\">\n",
       "  <thead>\n",
       "    <tr style=\"text-align: right;\">\n",
       "      <th></th>\n",
       "      <th>country</th>\n",
       "      <th>Region</th>\n",
       "      <th>Surface area (km2)</th>\n",
       "      <th>Population in thousands (2017)</th>\n",
       "      <th>Population density (per km2, 2017)</th>\n",
       "      <th>Sex ratio (m per 100 f, 2017)</th>\n",
       "      <th>GDP: Gross domestic product (million current US$)</th>\n",
       "      <th>GDP growth rate (annual %, const. 2005 prices)</th>\n",
       "      <th>GDP per capita (current US$)</th>\n",
       "      <th>Economy: Agriculture (% of GVA)</th>\n",
       "      <th>Economy: Industry (% of GVA)</th>\n",
       "      <th>Economy: Services and other activity (% of GVA)</th>\n",
       "      <th>Employment: Agriculture (% of employed)</th>\n",
       "      <th>Employment: Industry (% of employed)</th>\n",
       "      <th>Employment: Services (% of employed)</th>\n",
       "      <th>Unemployment (% of labour force)</th>\n",
       "      <th>Labour force participation (female/male pop. %)</th>\n",
       "      <th>Agricultural production index (2004-2006=100)</th>\n",
       "      <th>Food production index (2004-2006=100)</th>\n",
       "      <th>International trade: Exports (million US$)</th>\n",
       "      <th>International trade: Imports (million US$)</th>\n",
       "      <th>International trade: Balance (million US$)</th>\n",
       "      <th>Balance of payments, current account (million US$)</th>\n",
       "      <th>Population growth rate (average annual %)</th>\n",
       "      <th>Urban population (% of total population)</th>\n",
       "      <th>Urban population growth rate (average annual %)</th>\n",
       "      <th>Fertility rate, total (live births per woman)</th>\n",
       "      <th>Life expectancy at birth (females/males, years)</th>\n",
       "      <th>Population age distribution (0-14 / 60+ years, %)</th>\n",
       "      <th>International migrant stock (000/% of total pop.)</th>\n",
       "      <th>Refugees and others of concern to UNHCR (in thousands)</th>\n",
       "      <th>Infant mortality rate (per 1000 live births</th>\n",
       "      <th>Health: Total expenditure (% of GDP)</th>\n",
       "      <th>Health: Physicians (per 1000 pop.)</th>\n",
       "      <th>Education: Government expenditure (% of GDP)</th>\n",
       "      <th>Education: Primary gross enrol. ratio (f/m per 100 pop.)</th>\n",
       "      <th>Education: Secondary gross enrol. ratio (f/m per 100 pop.)</th>\n",
       "      <th>Education: Tertiary gross enrol. ratio (f/m per 100 pop.)</th>\n",
       "      <th>Seats held by women in national parliaments %</th>\n",
       "      <th>Mobile-cellular subscriptions (per 100 inhabitants)</th>\n",
       "      <th>Mobile-cellular subscriptions (per 100 inhabitants).1</th>\n",
       "      <th>Individuals using the Internet (per 100 inhabitants)</th>\n",
       "      <th>Threatened species (number)</th>\n",
       "      <th>Forested area (% of land area)</th>\n",
       "      <th>CO2 emission estimates (million tons/tons per capita)</th>\n",
       "      <th>Energy production, primary (Petajoules)</th>\n",
       "      <th>Energy supply per capita (Gigajoules)</th>\n",
       "      <th>Pop. using improved drinking water (urban/rural, %)</th>\n",
       "      <th>Pop. using improved sanitation facilities (urban/rural, %)</th>\n",
       "      <th>Net Official Development Assist. received (% of GNI)</th>\n",
       "    </tr>\n",
       "  </thead>\n",
       "  <tbody>\n",
       "    <tr>\n",
       "      <th>0</th>\n",
       "      <td>Afghanistan</td>\n",
       "      <td>SouthernAsia</td>\n",
       "      <td>652864</td>\n",
       "      <td>35530</td>\n",
       "      <td>54.4</td>\n",
       "      <td>106.3</td>\n",
       "      <td>20270</td>\n",
       "      <td>-2.4</td>\n",
       "      <td>623.2</td>\n",
       "      <td>23.3</td>\n",
       "      <td>23.3</td>\n",
       "      <td>53.3</td>\n",
       "      <td>61.6</td>\n",
       "      <td>10.0</td>\n",
       "      <td>28.5</td>\n",
       "      <td>8.6</td>\n",
       "      <td>19.3/83.6</td>\n",
       "      <td>125</td>\n",
       "      <td>125</td>\n",
       "      <td>1458</td>\n",
       "      <td>3568</td>\n",
       "      <td>-2110</td>\n",
       "      <td>-5121</td>\n",
       "      <td>3.2</td>\n",
       "      <td>26.7</td>\n",
       "      <td>4.0</td>\n",
       "      <td>5.3</td>\n",
       "      <td>63.5/61.0</td>\n",
       "      <td>43.2/4.1</td>\n",
       "      <td>382.4/1.2</td>\n",
       "      <td>1513.1</td>\n",
       "      <td>68.6</td>\n",
       "      <td>8.2</td>\n",
       "      <td>0.3</td>\n",
       "      <td>3.3</td>\n",
       "      <td>91.1/131.6</td>\n",
       "      <td>39.7/70.7</td>\n",
       "      <td>3.7/13.3</td>\n",
       "      <td>27.7</td>\n",
       "      <td>61.6</td>\n",
       "      <td>8.3</td>\n",
       "      <td>42</td>\n",
       "      <td>2.1</td>\n",
       "      <td>9.8/0.3</td>\n",
       "      <td>63</td>\n",
       "      <td>5</td>\n",
       "      <td>78.2/47.0</td>\n",
       "      <td>45.1/27.0</td>\n",
       "      <td>21.43</td>\n",
       "      <td>-99</td>\n",
       "    </tr>\n",
       "    <tr>\n",
       "      <th>1</th>\n",
       "      <td>Albania</td>\n",
       "      <td>SouthernEurope</td>\n",
       "      <td>28748</td>\n",
       "      <td>2930</td>\n",
       "      <td>106.9</td>\n",
       "      <td>101.9</td>\n",
       "      <td>11541</td>\n",
       "      <td>2.6</td>\n",
       "      <td>3984.2</td>\n",
       "      <td>22.4</td>\n",
       "      <td>26.0</td>\n",
       "      <td>51.7</td>\n",
       "      <td>41.4</td>\n",
       "      <td>18.3</td>\n",
       "      <td>40.3</td>\n",
       "      <td>15.8</td>\n",
       "      <td>40.2/61.0</td>\n",
       "      <td>134</td>\n",
       "      <td>134</td>\n",
       "      <td>1962</td>\n",
       "      <td>4669</td>\n",
       "      <td>-2707</td>\n",
       "      <td>-1222</td>\n",
       "      <td>-0.1</td>\n",
       "      <td>57.4</td>\n",
       "      <td>2.2</td>\n",
       "      <td>1.7</td>\n",
       "      <td>79.9/75.6</td>\n",
       "      <td>17.4/19.0</td>\n",
       "      <td>57.6/2.0</td>\n",
       "      <td>8.8</td>\n",
       "      <td>14.6</td>\n",
       "      <td>5.9</td>\n",
       "      <td>1.3</td>\n",
       "      <td>3.5</td>\n",
       "      <td>111.7/115.5</td>\n",
       "      <td>92.5/98.8</td>\n",
       "      <td>68.1/48.7</td>\n",
       "      <td>22.9</td>\n",
       "      <td>106.4</td>\n",
       "      <td>63.3</td>\n",
       "      <td>130</td>\n",
       "      <td>28.2</td>\n",
       "      <td>5.7/2.0</td>\n",
       "      <td>84</td>\n",
       "      <td>36</td>\n",
       "      <td>94.9/95.2</td>\n",
       "      <td>95.5/90.2</td>\n",
       "      <td>2.96</td>\n",
       "      <td>-99</td>\n",
       "    </tr>\n",
       "    <tr>\n",
       "      <th>2</th>\n",
       "      <td>Algeria</td>\n",
       "      <td>NorthernAfrica</td>\n",
       "      <td>2381741</td>\n",
       "      <td>41318</td>\n",
       "      <td>17.3</td>\n",
       "      <td>102.0</td>\n",
       "      <td>164779</td>\n",
       "      <td>3.8</td>\n",
       "      <td>4154.1</td>\n",
       "      <td>12.2</td>\n",
       "      <td>37.3</td>\n",
       "      <td>50.5</td>\n",
       "      <td>10.8</td>\n",
       "      <td>34.5</td>\n",
       "      <td>54.7</td>\n",
       "      <td>11.4</td>\n",
       "      <td>17.0/70.7</td>\n",
       "      <td>160</td>\n",
       "      <td>161</td>\n",
       "      <td>29992</td>\n",
       "      <td>47091</td>\n",
       "      <td>-17099</td>\n",
       "      <td>-27229</td>\n",
       "      <td>2.0</td>\n",
       "      <td>70.7</td>\n",
       "      <td>2.8</td>\n",
       "      <td>3.0</td>\n",
       "      <td>76.5/74.1</td>\n",
       "      <td>29.3/9.4</td>\n",
       "      <td>242.4/0.6</td>\n",
       "      <td>99.8</td>\n",
       "      <td>27.7</td>\n",
       "      <td>7.2</td>\n",
       "      <td>...</td>\n",
       "      <td>...</td>\n",
       "      <td>112.7/119.5</td>\n",
       "      <td>101.7/98.1</td>\n",
       "      <td>45.1/28.9</td>\n",
       "      <td>31.6</td>\n",
       "      <td>113.0</td>\n",
       "      <td>38.2</td>\n",
       "      <td>135</td>\n",
       "      <td>0.8</td>\n",
       "      <td>145.4/3.7</td>\n",
       "      <td>5900</td>\n",
       "      <td>55</td>\n",
       "      <td>84.3/81.8</td>\n",
       "      <td>89.8/82.2</td>\n",
       "      <td>0.05</td>\n",
       "      <td>-99</td>\n",
       "    </tr>\n",
       "    <tr>\n",
       "      <th>3</th>\n",
       "      <td>American Samoa</td>\n",
       "      <td>Polynesia</td>\n",
       "      <td>199</td>\n",
       "      <td>56</td>\n",
       "      <td>278.2</td>\n",
       "      <td>103.6</td>\n",
       "      <td>-99</td>\n",
       "      <td>-99</td>\n",
       "      <td>-99.0</td>\n",
       "      <td>-99</td>\n",
       "      <td>-99.0</td>\n",
       "      <td>-99.0</td>\n",
       "      <td>...</td>\n",
       "      <td>...</td>\n",
       "      <td>...</td>\n",
       "      <td>...</td>\n",
       "      <td>.../...</td>\n",
       "      <td>112</td>\n",
       "      <td>112</td>\n",
       "      <td>-99</td>\n",
       "      <td>-99</td>\n",
       "      <td>-99</td>\n",
       "      <td>-99</td>\n",
       "      <td>-~0.0</td>\n",
       "      <td>87.2</td>\n",
       "      <td>-0.1</td>\n",
       "      <td>2.6</td>\n",
       "      <td>77.8/71.1</td>\n",
       "      <td>33.3/9.0</td>\n",
       "      <td>23.2/41.8</td>\n",
       "      <td>-99</td>\n",
       "      <td>9.6</td>\n",
       "      <td>-99.0</td>\n",
       "      <td>-99</td>\n",
       "      <td>-99</td>\n",
       "      <td>-99</td>\n",
       "      <td>-99</td>\n",
       "      <td>-99</td>\n",
       "      <td>-99.0</td>\n",
       "      <td>...</td>\n",
       "      <td>-99</td>\n",
       "      <td>92</td>\n",
       "      <td>87.9</td>\n",
       "      <td>-99</td>\n",
       "      <td>-99</td>\n",
       "      <td>-99</td>\n",
       "      <td>100.0/100.0</td>\n",
       "      <td>62.5/62.5</td>\n",
       "      <td>-99</td>\n",
       "      <td>-99</td>\n",
       "    </tr>\n",
       "    <tr>\n",
       "      <th>4</th>\n",
       "      <td>Andorra</td>\n",
       "      <td>SouthernEurope</td>\n",
       "      <td>468</td>\n",
       "      <td>77</td>\n",
       "      <td>163.8</td>\n",
       "      <td>102.3</td>\n",
       "      <td>2812</td>\n",
       "      <td>0.8</td>\n",
       "      <td>39896.4</td>\n",
       "      <td>0.5</td>\n",
       "      <td>10.8</td>\n",
       "      <td>88.6</td>\n",
       "      <td>-99</td>\n",
       "      <td>-99</td>\n",
       "      <td>-99</td>\n",
       "      <td>-99</td>\n",
       "      <td>-99</td>\n",
       "      <td>-99</td>\n",
       "      <td>-99</td>\n",
       "      <td>100</td>\n",
       "      <td>1355</td>\n",
       "      <td>-1255</td>\n",
       "      <td>-99</td>\n",
       "      <td>-1.6</td>\n",
       "      <td>85.1</td>\n",
       "      <td>0.1</td>\n",
       "      <td>1.2</td>\n",
       "      <td>-99</td>\n",
       "      <td>14.4/19.0</td>\n",
       "      <td>42.1/59.7</td>\n",
       "      <td>-99</td>\n",
       "      <td>-99</td>\n",
       "      <td>8.1</td>\n",
       "      <td>3.7</td>\n",
       "      <td>3.3</td>\n",
       "      <td>-99</td>\n",
       "      <td>-99</td>\n",
       "      <td>-99</td>\n",
       "      <td>32.1</td>\n",
       "      <td>88.1</td>\n",
       "      <td>96.9</td>\n",
       "      <td>13</td>\n",
       "      <td>34.0</td>\n",
       "      <td>0.5/6.4</td>\n",
       "      <td>1</td>\n",
       "      <td>119</td>\n",
       "      <td>100.0/100.0</td>\n",
       "      <td>100.0/100.0</td>\n",
       "      <td>-99</td>\n",
       "      <td>-99</td>\n",
       "    </tr>\n",
       "  </tbody>\n",
       "</table>\n",
       "</div>"
      ],
      "text/plain": [
       "          country          Region Surface area (km2)  \\\n",
       "0     Afghanistan    SouthernAsia             652864   \n",
       "1         Albania  SouthernEurope              28748   \n",
       "2         Algeria  NorthernAfrica            2381741   \n",
       "3  American Samoa       Polynesia                199   \n",
       "4         Andorra  SouthernEurope                468   \n",
       "\n",
       "   Population in thousands (2017)  Population density (per km2, 2017)  \\\n",
       "0                           35530                                54.4   \n",
       "1                            2930                               106.9   \n",
       "2                           41318                                17.3   \n",
       "3                              56                               278.2   \n",
       "4                              77                               163.8   \n",
       "\n",
       "   Sex ratio (m per 100 f, 2017)  \\\n",
       "0                          106.3   \n",
       "1                          101.9   \n",
       "2                          102.0   \n",
       "3                          103.6   \n",
       "4                          102.3   \n",
       "\n",
       "   GDP: Gross domestic product (million current US$)  \\\n",
       "0                                              20270   \n",
       "1                                              11541   \n",
       "2                                             164779   \n",
       "3                                                -99   \n",
       "4                                               2812   \n",
       "\n",
       "  GDP growth rate (annual %, const. 2005 prices)  \\\n",
       "0                                           -2.4   \n",
       "1                                            2.6   \n",
       "2                                            3.8   \n",
       "3                                            -99   \n",
       "4                                            0.8   \n",
       "\n",
       "   GDP per capita (current US$) Economy: Agriculture (% of GVA)  \\\n",
       "0                         623.2                            23.3   \n",
       "1                        3984.2                            22.4   \n",
       "2                        4154.1                            12.2   \n",
       "3                         -99.0                             -99   \n",
       "4                       39896.4                             0.5   \n",
       "\n",
       "   Economy: Industry (% of GVA)  \\\n",
       "0                          23.3   \n",
       "1                          26.0   \n",
       "2                          37.3   \n",
       "3                         -99.0   \n",
       "4                          10.8   \n",
       "\n",
       "   Economy: Services and other activity (% of GVA)  \\\n",
       "0                                             53.3   \n",
       "1                                             51.7   \n",
       "2                                             50.5   \n",
       "3                                            -99.0   \n",
       "4                                             88.6   \n",
       "\n",
       "  Employment: Agriculture (% of employed)  \\\n",
       "0                                    61.6   \n",
       "1                                    41.4   \n",
       "2                                    10.8   \n",
       "3                                     ...   \n",
       "4                                     -99   \n",
       "\n",
       "  Employment: Industry (% of employed) Employment: Services (% of employed)  \\\n",
       "0                                 10.0                                 28.5   \n",
       "1                                 18.3                                 40.3   \n",
       "2                                 34.5                                 54.7   \n",
       "3                                  ...                                  ...   \n",
       "4                                  -99                                  -99   \n",
       "\n",
       "  Unemployment (% of labour force)  \\\n",
       "0                              8.6   \n",
       "1                             15.8   \n",
       "2                             11.4   \n",
       "3                              ...   \n",
       "4                              -99   \n",
       "\n",
       "  Labour force participation (female/male pop. %)  \\\n",
       "0                                       19.3/83.6   \n",
       "1                                       40.2/61.0   \n",
       "2                                       17.0/70.7   \n",
       "3                                         .../...   \n",
       "4                                             -99   \n",
       "\n",
       "   Agricultural production index (2004-2006=100)  \\\n",
       "0                                            125   \n",
       "1                                            134   \n",
       "2                                            160   \n",
       "3                                            112   \n",
       "4                                            -99   \n",
       "\n",
       "   Food production index (2004-2006=100)  \\\n",
       "0                                    125   \n",
       "1                                    134   \n",
       "2                                    161   \n",
       "3                                    112   \n",
       "4                                    -99   \n",
       "\n",
       "  International trade: Exports (million US$)  \\\n",
       "0                                       1458   \n",
       "1                                       1962   \n",
       "2                                      29992   \n",
       "3                                        -99   \n",
       "4                                        100   \n",
       "\n",
       "  International trade: Imports (million US$)  \\\n",
       "0                                       3568   \n",
       "1                                       4669   \n",
       "2                                      47091   \n",
       "3                                        -99   \n",
       "4                                       1355   \n",
       "\n",
       "  International trade: Balance (million US$)  \\\n",
       "0                                      -2110   \n",
       "1                                      -2707   \n",
       "2                                     -17099   \n",
       "3                                        -99   \n",
       "4                                      -1255   \n",
       "\n",
       "  Balance of payments, current account (million US$)  \\\n",
       "0                                              -5121   \n",
       "1                                              -1222   \n",
       "2                                             -27229   \n",
       "3                                                -99   \n",
       "4                                                -99   \n",
       "\n",
       "  Population growth rate (average annual %)  \\\n",
       "0                                       3.2   \n",
       "1                                      -0.1   \n",
       "2                                       2.0   \n",
       "3                                     -~0.0   \n",
       "4                                      -1.6   \n",
       "\n",
       "   Urban population (% of total population)  \\\n",
       "0                                      26.7   \n",
       "1                                      57.4   \n",
       "2                                      70.7   \n",
       "3                                      87.2   \n",
       "4                                      85.1   \n",
       "\n",
       "  Urban population growth rate (average annual %)  \\\n",
       "0                                             4.0   \n",
       "1                                             2.2   \n",
       "2                                             2.8   \n",
       "3                                            -0.1   \n",
       "4                                             0.1   \n",
       "\n",
       "  Fertility rate, total (live births per woman)  \\\n",
       "0                                           5.3   \n",
       "1                                           1.7   \n",
       "2                                           3.0   \n",
       "3                                           2.6   \n",
       "4                                           1.2   \n",
       "\n",
       "  Life expectancy at birth (females/males, years)  \\\n",
       "0                                       63.5/61.0   \n",
       "1                                       79.9/75.6   \n",
       "2                                       76.5/74.1   \n",
       "3                                       77.8/71.1   \n",
       "4                                             -99   \n",
       "\n",
       "  Population age distribution (0-14 / 60+ years, %)  \\\n",
       "0                                          43.2/4.1   \n",
       "1                                         17.4/19.0   \n",
       "2                                          29.3/9.4   \n",
       "3                                          33.3/9.0   \n",
       "4                                         14.4/19.0   \n",
       "\n",
       "  International migrant stock (000/% of total pop.)  \\\n",
       "0                                         382.4/1.2   \n",
       "1                                          57.6/2.0   \n",
       "2                                         242.4/0.6   \n",
       "3                                         23.2/41.8   \n",
       "4                                         42.1/59.7   \n",
       "\n",
       "  Refugees and others of concern to UNHCR (in thousands)  \\\n",
       "0                                             1513.1       \n",
       "1                                                8.8       \n",
       "2                                               99.8       \n",
       "3                                                -99       \n",
       "4                                                -99       \n",
       "\n",
       "  Infant mortality rate (per 1000 live births  \\\n",
       "0                                        68.6   \n",
       "1                                        14.6   \n",
       "2                                        27.7   \n",
       "3                                         9.6   \n",
       "4                                         -99   \n",
       "\n",
       "   Health: Total expenditure (% of GDP) Health: Physicians (per 1000 pop.)  \\\n",
       "0                                   8.2                                0.3   \n",
       "1                                   5.9                                1.3   \n",
       "2                                   7.2                                ...   \n",
       "3                                 -99.0                                -99   \n",
       "4                                   8.1                                3.7   \n",
       "\n",
       "  Education: Government expenditure (% of GDP)  \\\n",
       "0                                          3.3   \n",
       "1                                          3.5   \n",
       "2                                          ...   \n",
       "3                                          -99   \n",
       "4                                          3.3   \n",
       "\n",
       "  Education: Primary gross enrol. ratio (f/m per 100 pop.)  \\\n",
       "0                                         91.1/131.6         \n",
       "1                                        111.7/115.5         \n",
       "2                                        112.7/119.5         \n",
       "3                                                -99         \n",
       "4                                                -99         \n",
       "\n",
       "  Education: Secondary gross enrol. ratio (f/m per 100 pop.)  \\\n",
       "0                                          39.7/70.7           \n",
       "1                                          92.5/98.8           \n",
       "2                                         101.7/98.1           \n",
       "3                                                -99           \n",
       "4                                                -99           \n",
       "\n",
       "  Education: Tertiary gross enrol. ratio (f/m per 100 pop.)  \\\n",
       "0                                           3.7/13.3          \n",
       "1                                          68.1/48.7          \n",
       "2                                          45.1/28.9          \n",
       "3                                                -99          \n",
       "4                                                -99          \n",
       "\n",
       "   Seats held by women in national parliaments %  \\\n",
       "0                                           27.7   \n",
       "1                                           22.9   \n",
       "2                                           31.6   \n",
       "3                                          -99.0   \n",
       "4                                           32.1   \n",
       "\n",
       "  Mobile-cellular subscriptions (per 100 inhabitants)  \\\n",
       "0                                               61.6    \n",
       "1                                              106.4    \n",
       "2                                              113.0    \n",
       "3                                                ...    \n",
       "4                                               88.1    \n",
       "\n",
       "  Mobile-cellular subscriptions (per 100 inhabitants).1  \\\n",
       "0                                                8.3      \n",
       "1                                               63.3      \n",
       "2                                               38.2      \n",
       "3                                                -99      \n",
       "4                                               96.9      \n",
       "\n",
       "   Individuals using the Internet (per 100 inhabitants)  \\\n",
       "0                                                 42      \n",
       "1                                                130      \n",
       "2                                                135      \n",
       "3                                                 92      \n",
       "4                                                 13      \n",
       "\n",
       "  Threatened species (number) Forested area (% of land area)  \\\n",
       "0                         2.1                        9.8/0.3   \n",
       "1                        28.2                        5.7/2.0   \n",
       "2                         0.8                      145.4/3.7   \n",
       "3                        87.9                            -99   \n",
       "4                        34.0                        0.5/6.4   \n",
       "\n",
       "   CO2 emission estimates (million tons/tons per capita)  \\\n",
       "0                                                 63       \n",
       "1                                                 84       \n",
       "2                                               5900       \n",
       "3                                                -99       \n",
       "4                                                  1       \n",
       "\n",
       "   Energy production, primary (Petajoules)  \\\n",
       "0                                        5   \n",
       "1                                       36   \n",
       "2                                       55   \n",
       "3                                      -99   \n",
       "4                                      119   \n",
       "\n",
       "  Energy supply per capita (Gigajoules)  \\\n",
       "0                             78.2/47.0   \n",
       "1                             94.9/95.2   \n",
       "2                             84.3/81.8   \n",
       "3                           100.0/100.0   \n",
       "4                           100.0/100.0   \n",
       "\n",
       "  Pop. using improved drinking water (urban/rural, %)  \\\n",
       "0                                          45.1/27.0    \n",
       "1                                          95.5/90.2    \n",
       "2                                          89.8/82.2    \n",
       "3                                          62.5/62.5    \n",
       "4                                        100.0/100.0    \n",
       "\n",
       "  Pop. using improved sanitation facilities (urban/rural, %)  \\\n",
       "0                                              21.43           \n",
       "1                                               2.96           \n",
       "2                                               0.05           \n",
       "3                                                -99           \n",
       "4                                                -99           \n",
       "\n",
       "   Net Official Development Assist. received (% of GNI)  \n",
       "0                                                -99     \n",
       "1                                                -99     \n",
       "2                                                -99     \n",
       "3                                                -99     \n",
       "4                                                -99     "
      ]
     },
     "execution_count": 4,
     "metadata": {},
     "output_type": "execute_result"
    }
   ],
   "source": [
    "df.head()"
   ]
  },
  {
   "cell_type": "code",
   "execution_count": 5,
   "metadata": {},
   "outputs": [
    {
     "data": {
      "text/plain": [
       "Index(['country', 'Region', 'Surface area (km2)',\n",
       "       'Population in thousands (2017)', 'Population density (per km2, 2017)',\n",
       "       'Sex ratio (m per 100 f, 2017)',\n",
       "       'GDP: Gross domestic product (million current US$)',\n",
       "       'GDP growth rate (annual %, const. 2005 prices)',\n",
       "       'GDP per capita (current US$)', 'Economy: Agriculture (% of GVA)',\n",
       "       'Economy: Industry (% of GVA)',\n",
       "       'Economy: Services and other activity (% of GVA)',\n",
       "       'Employment: Agriculture (% of employed)',\n",
       "       'Employment: Industry (% of employed)',\n",
       "       'Employment: Services (% of employed)',\n",
       "       'Unemployment (% of labour force)',\n",
       "       'Labour force participation (female/male pop. %)',\n",
       "       'Agricultural production index (2004-2006=100)',\n",
       "       'Food production index (2004-2006=100)',\n",
       "       'International trade: Exports (million US$)',\n",
       "       'International trade: Imports (million US$)',\n",
       "       'International trade: Balance (million US$)',\n",
       "       'Balance of payments, current account (million US$)',\n",
       "       'Population growth rate (average annual %)',\n",
       "       'Urban population (% of total population)',\n",
       "       'Urban population growth rate (average annual %)',\n",
       "       'Fertility rate, total (live births per woman)',\n",
       "       'Life expectancy at birth (females/males, years)',\n",
       "       'Population age distribution (0-14 / 60+ years, %)',\n",
       "       'International migrant stock (000/% of total pop.)',\n",
       "       'Refugees and others of concern to UNHCR (in thousands)',\n",
       "       'Infant mortality rate (per 1000 live births',\n",
       "       'Health: Total expenditure (% of GDP)',\n",
       "       'Health: Physicians (per 1000 pop.)',\n",
       "       'Education: Government expenditure (% of GDP)',\n",
       "       'Education: Primary gross enrol. ratio (f/m per 100 pop.)',\n",
       "       'Education: Secondary gross enrol. ratio (f/m per 100 pop.)',\n",
       "       'Education: Tertiary gross enrol. ratio (f/m per 100 pop.)',\n",
       "       'Seats held by women in national parliaments %',\n",
       "       'Mobile-cellular subscriptions (per 100 inhabitants)',\n",
       "       'Mobile-cellular subscriptions (per 100 inhabitants).1',\n",
       "       'Individuals using the Internet (per 100 inhabitants)',\n",
       "       'Threatened species (number)', 'Forested area (% of land area)',\n",
       "       'CO2 emission estimates (million tons/tons per capita)',\n",
       "       'Energy production, primary (Petajoules)',\n",
       "       'Energy supply per capita (Gigajoules)',\n",
       "       'Pop. using improved drinking water (urban/rural, %)',\n",
       "       'Pop. using improved sanitation facilities (urban/rural, %)',\n",
       "       'Net Official Development Assist. received (% of GNI)'],\n",
       "      dtype='object')"
      ]
     },
     "execution_count": 5,
     "metadata": {},
     "output_type": "execute_result"
    }
   ],
   "source": [
    "df.columns"
   ]
  },
  {
   "cell_type": "code",
   "execution_count": 10,
   "metadata": {},
   "outputs": [],
   "source": [
    "df1 = df[['country', 'Region', 'Surface area (km2)',\n",
    "       'Population in thousands (2017)', 'Population density (per km2, 2017)',\n",
    "       'Sex ratio (m per 100 f, 2017)',\n",
    "       'GDP: Gross domestic product (million current US$)',\n",
    "       'GDP growth rate (annual %, const. 2005 prices)',\n",
    "       'GDP per capita (current US$)', 'Economy: Agriculture (% of GVA)',\n",
    "       'Economy: Industry (% of GVA)',\n",
    "       'Economy: Services and other activity (% of GVA)',\n",
    "       'Employment: Agriculture (% of employed)',\n",
    "       'Employment: Industry (% of employed)',\n",
    "       'Employment: Services (% of employed)',\n",
    "   #     'Unemployment (% of labour force)',\n",
    "   #  #    'Labour force participation (female/male pop. %)',\n",
    "   #     'Agricultural production index (2004-2006=100)',\n",
    "   #     'Food production index (2004-2006=100)',\n",
    "   #     'International trade: Exports (million US$)',\n",
    "   #     'International trade: Imports (million US$)',\n",
    "   #     'International trade: Balance (million US$)',\n",
    "   #      # 'Balance of payments, current account (million US$)',\n",
    "   #     'Population growth rate (average annual %)',\n",
    "   #     'Urban population (% of total population)',\n",
    "   #     'Urban population growth rate (average annual %)',\n",
    "   #     'Fertility rate, total (live births per woman)',\n",
    "        'Life expectancy at birth (females/males, years)',\n",
    "   #     'Population age distribution (0-14 / 60+ years, %)',\n",
    "   #     # 'International migrant stock (000/% of total pop.)',\n",
    "   #     # 'Refugees and others of concern to UNHCR (in thousands)',\n",
    "   #     'Infant mortality rate (per 1000 live births',\n",
    "   #  #    'Health: Total expenditure (% of GDP)',\n",
    "   #  #    'Health: Physicians (per 1000 pop.)',\n",
    "   #     'Education: Government expenditure (% of GDP)',\n",
    "   #  #    'Education: Primary gross enrol. ratio (f/m per 100 pop.)',\n",
    "   #  #    'Education: Secondary gross enrol. ratio (f/m per 100 pop.)',\n",
    "   #  #    'Education: Tertiary gross enrol. ratio (f/m per 100 pop.)',\n",
    "   #  #    'Seats held by women in national parliaments %',\n",
    "   #  #    'Mobile-cellular subscriptions (per 100 inhabitants)',\n",
    "   #  #    'Mobile-cellular subscriptions (per 100 inhabitants).1',\n",
    "   #     'Individuals using the Internet (per 100 inhabitants)',\n",
    "   # #     'Threatened species (number)', 'Forested area (% of land area)',\n",
    "        'CO2 emission estimates (million tons/tons per capita)'\n",
    "   # #  #    'Energy production, primary (Petajoules)',\n",
    "   #  #    'Energy supply per capita (Gigajoules)',\n",
    "   #     'Pop. using improved drinking water (urban/rural, %)',\n",
    "   #     'Pop. using improved sanitation facilities (urban/rural, %)',\n",
    "   #  #    'Net Official Development Assist. received (% of GNI)'\n",
    "       ]]"
   ]
  },
  {
   "cell_type": "code",
   "execution_count": 11,
   "metadata": {},
   "outputs": [
    {
     "data": {
      "text/html": [
       "<div>\n",
       "<style scoped>\n",
       "    .dataframe tbody tr th:only-of-type {\n",
       "        vertical-align: middle;\n",
       "    }\n",
       "\n",
       "    .dataframe tbody tr th {\n",
       "        vertical-align: top;\n",
       "    }\n",
       "\n",
       "    .dataframe thead th {\n",
       "        text-align: right;\n",
       "    }\n",
       "</style>\n",
       "<table border=\"1\" class=\"dataframe\">\n",
       "  <thead>\n",
       "    <tr style=\"text-align: right;\">\n",
       "      <th></th>\n",
       "      <th>country</th>\n",
       "      <th>Region</th>\n",
       "      <th>Surface area (km2)</th>\n",
       "      <th>Population in thousands (2017)</th>\n",
       "      <th>Population density (per km2, 2017)</th>\n",
       "      <th>Sex ratio (m per 100 f, 2017)</th>\n",
       "      <th>GDP: Gross domestic product (million current US$)</th>\n",
       "      <th>GDP growth rate (annual %, const. 2005 prices)</th>\n",
       "      <th>GDP per capita (current US$)</th>\n",
       "      <th>Economy: Agriculture (% of GVA)</th>\n",
       "      <th>Economy: Industry (% of GVA)</th>\n",
       "      <th>Economy: Services and other activity (% of GVA)</th>\n",
       "      <th>Employment: Agriculture (% of employed)</th>\n",
       "      <th>Employment: Industry (% of employed)</th>\n",
       "      <th>Employment: Services (% of employed)</th>\n",
       "      <th>Life expectancy at birth (females/males, years)</th>\n",
       "      <th>CO2 emission estimates (million tons/tons per capita)</th>\n",
       "    </tr>\n",
       "  </thead>\n",
       "  <tbody>\n",
       "    <tr>\n",
       "      <th>0</th>\n",
       "      <td>Afghanistan</td>\n",
       "      <td>SouthernAsia</td>\n",
       "      <td>652864</td>\n",
       "      <td>35530</td>\n",
       "      <td>54.4</td>\n",
       "      <td>106.3</td>\n",
       "      <td>20270</td>\n",
       "      <td>-2.4</td>\n",
       "      <td>623.2</td>\n",
       "      <td>23.3</td>\n",
       "      <td>23.3</td>\n",
       "      <td>53.3</td>\n",
       "      <td>61.6</td>\n",
       "      <td>10.0</td>\n",
       "      <td>28.5</td>\n",
       "      <td>63.5/61.0</td>\n",
       "      <td>63</td>\n",
       "    </tr>\n",
       "    <tr>\n",
       "      <th>1</th>\n",
       "      <td>Albania</td>\n",
       "      <td>SouthernEurope</td>\n",
       "      <td>28748</td>\n",
       "      <td>2930</td>\n",
       "      <td>106.9</td>\n",
       "      <td>101.9</td>\n",
       "      <td>11541</td>\n",
       "      <td>2.6</td>\n",
       "      <td>3984.2</td>\n",
       "      <td>22.4</td>\n",
       "      <td>26.0</td>\n",
       "      <td>51.7</td>\n",
       "      <td>41.4</td>\n",
       "      <td>18.3</td>\n",
       "      <td>40.3</td>\n",
       "      <td>79.9/75.6</td>\n",
       "      <td>84</td>\n",
       "    </tr>\n",
       "    <tr>\n",
       "      <th>2</th>\n",
       "      <td>Algeria</td>\n",
       "      <td>NorthernAfrica</td>\n",
       "      <td>2381741</td>\n",
       "      <td>41318</td>\n",
       "      <td>17.3</td>\n",
       "      <td>102.0</td>\n",
       "      <td>164779</td>\n",
       "      <td>3.8</td>\n",
       "      <td>4154.1</td>\n",
       "      <td>12.2</td>\n",
       "      <td>37.3</td>\n",
       "      <td>50.5</td>\n",
       "      <td>10.8</td>\n",
       "      <td>34.5</td>\n",
       "      <td>54.7</td>\n",
       "      <td>76.5/74.1</td>\n",
       "      <td>5900</td>\n",
       "    </tr>\n",
       "    <tr>\n",
       "      <th>3</th>\n",
       "      <td>American Samoa</td>\n",
       "      <td>Polynesia</td>\n",
       "      <td>199</td>\n",
       "      <td>56</td>\n",
       "      <td>278.2</td>\n",
       "      <td>103.6</td>\n",
       "      <td>-99</td>\n",
       "      <td>-99</td>\n",
       "      <td>-99.0</td>\n",
       "      <td>-99</td>\n",
       "      <td>-99.0</td>\n",
       "      <td>-99.0</td>\n",
       "      <td>...</td>\n",
       "      <td>...</td>\n",
       "      <td>...</td>\n",
       "      <td>77.8/71.1</td>\n",
       "      <td>-99</td>\n",
       "    </tr>\n",
       "    <tr>\n",
       "      <th>4</th>\n",
       "      <td>Andorra</td>\n",
       "      <td>SouthernEurope</td>\n",
       "      <td>468</td>\n",
       "      <td>77</td>\n",
       "      <td>163.8</td>\n",
       "      <td>102.3</td>\n",
       "      <td>2812</td>\n",
       "      <td>0.8</td>\n",
       "      <td>39896.4</td>\n",
       "      <td>0.5</td>\n",
       "      <td>10.8</td>\n",
       "      <td>88.6</td>\n",
       "      <td>-99</td>\n",
       "      <td>-99</td>\n",
       "      <td>-99</td>\n",
       "      <td>-99</td>\n",
       "      <td>1</td>\n",
       "    </tr>\n",
       "  </tbody>\n",
       "</table>\n",
       "</div>"
      ],
      "text/plain": [
       "          country          Region Surface area (km2)  \\\n",
       "0     Afghanistan    SouthernAsia             652864   \n",
       "1         Albania  SouthernEurope              28748   \n",
       "2         Algeria  NorthernAfrica            2381741   \n",
       "3  American Samoa       Polynesia                199   \n",
       "4         Andorra  SouthernEurope                468   \n",
       "\n",
       "   Population in thousands (2017)  Population density (per km2, 2017)  \\\n",
       "0                           35530                                54.4   \n",
       "1                            2930                               106.9   \n",
       "2                           41318                                17.3   \n",
       "3                              56                               278.2   \n",
       "4                              77                               163.8   \n",
       "\n",
       "   Sex ratio (m per 100 f, 2017)  \\\n",
       "0                          106.3   \n",
       "1                          101.9   \n",
       "2                          102.0   \n",
       "3                          103.6   \n",
       "4                          102.3   \n",
       "\n",
       "   GDP: Gross domestic product (million current US$)  \\\n",
       "0                                              20270   \n",
       "1                                              11541   \n",
       "2                                             164779   \n",
       "3                                                -99   \n",
       "4                                               2812   \n",
       "\n",
       "  GDP growth rate (annual %, const. 2005 prices)  \\\n",
       "0                                           -2.4   \n",
       "1                                            2.6   \n",
       "2                                            3.8   \n",
       "3                                            -99   \n",
       "4                                            0.8   \n",
       "\n",
       "   GDP per capita (current US$) Economy: Agriculture (% of GVA)  \\\n",
       "0                         623.2                            23.3   \n",
       "1                        3984.2                            22.4   \n",
       "2                        4154.1                            12.2   \n",
       "3                         -99.0                             -99   \n",
       "4                       39896.4                             0.5   \n",
       "\n",
       "   Economy: Industry (% of GVA)  \\\n",
       "0                          23.3   \n",
       "1                          26.0   \n",
       "2                          37.3   \n",
       "3                         -99.0   \n",
       "4                          10.8   \n",
       "\n",
       "   Economy: Services and other activity (% of GVA)  \\\n",
       "0                                             53.3   \n",
       "1                                             51.7   \n",
       "2                                             50.5   \n",
       "3                                            -99.0   \n",
       "4                                             88.6   \n",
       "\n",
       "  Employment: Agriculture (% of employed)  \\\n",
       "0                                    61.6   \n",
       "1                                    41.4   \n",
       "2                                    10.8   \n",
       "3                                     ...   \n",
       "4                                     -99   \n",
       "\n",
       "  Employment: Industry (% of employed) Employment: Services (% of employed)  \\\n",
       "0                                 10.0                                 28.5   \n",
       "1                                 18.3                                 40.3   \n",
       "2                                 34.5                                 54.7   \n",
       "3                                  ...                                  ...   \n",
       "4                                  -99                                  -99   \n",
       "\n",
       "  Life expectancy at birth (females/males, years)  \\\n",
       "0                                       63.5/61.0   \n",
       "1                                       79.9/75.6   \n",
       "2                                       76.5/74.1   \n",
       "3                                       77.8/71.1   \n",
       "4                                             -99   \n",
       "\n",
       "   CO2 emission estimates (million tons/tons per capita)  \n",
       "0                                                 63      \n",
       "1                                                 84      \n",
       "2                                               5900      \n",
       "3                                                -99      \n",
       "4                                                  1      "
      ]
     },
     "execution_count": 11,
     "metadata": {},
     "output_type": "execute_result"
    }
   ],
   "source": [
    "df1.head()"
   ]
  },
  {
   "cell_type": "code",
   "execution_count": 12,
   "metadata": {},
   "outputs": [
    {
     "data": {
      "text/plain": [
       "17"
      ]
     },
     "execution_count": 12,
     "metadata": {},
     "output_type": "execute_result"
    }
   ],
   "source": [
    "df1.columns.nunique()"
   ]
  },
  {
   "cell_type": "code",
   "execution_count": 14,
   "metadata": {},
   "outputs": [
    {
     "data": {
      "text/plain": [
       "country                                                  0\n",
       "Region                                                   0\n",
       "Surface area (km2)                                       0\n",
       "Population in thousands (2017)                           0\n",
       "Population density (per km2, 2017)                       0\n",
       "Sex ratio (m per 100 f, 2017)                            0\n",
       "GDP: Gross domestic product (million current US$)        0\n",
       "GDP growth rate (annual %, const. 2005 prices)           0\n",
       "GDP per capita (current US$)                             0\n",
       "Economy: Agriculture (% of GVA)                          0\n",
       "Economy: Industry (% of GVA)                             0\n",
       "Economy: Services and other activity (% of GVA)          0\n",
       "Employment: Agriculture (% of employed)                  0\n",
       "Employment: Industry (% of employed)                     0\n",
       "Employment: Services (% of employed)                     0\n",
       "Life expectancy at birth (females/males, years)          0\n",
       "CO2 emission estimates (million tons/tons per capita)    0\n",
       "dtype: int64"
      ]
     },
     "execution_count": 14,
     "metadata": {},
     "output_type": "execute_result"
    }
   ],
   "source": [
    "df1.isnull().sum()"
   ]
  },
  {
   "cell_type": "code",
   "execution_count": 15,
   "metadata": {},
   "outputs": [
    {
     "data": {
      "text/plain": [
       "0"
      ]
     },
     "execution_count": 15,
     "metadata": {},
     "output_type": "execute_result"
    }
   ],
   "source": [
    "df1.duplicated().sum()"
   ]
  },
  {
   "cell_type": "code",
   "execution_count": 16,
   "metadata": {},
   "outputs": [
    {
     "name": "stderr",
     "output_type": "stream",
     "text": [
      "C:\\Users\\ferna\\AppData\\Local\\Temp\\ipykernel_24044\\2311366009.py:1: SettingWithCopyWarning: \n",
      "A value is trying to be set on a copy of a slice from a DataFrame.\n",
      "Try using .loc[row_indexer,col_indexer] = value instead\n",
      "\n",
      "See the caveats in the documentation: https://pandas.pydata.org/pandas-docs/stable/user_guide/indexing.html#returning-a-view-versus-a-copy\n",
      "  df1['Surface area (km2)'] = df1['Surface area (km2)'].str.replace('~', '')\n",
      "C:\\Users\\ferna\\AppData\\Local\\Temp\\ipykernel_24044\\2311366009.py:2: SettingWithCopyWarning: \n",
      "A value is trying to be set on a copy of a slice from a DataFrame.\n",
      "Try using .loc[row_indexer,col_indexer] = value instead\n",
      "\n",
      "See the caveats in the documentation: https://pandas.pydata.org/pandas-docs/stable/user_guide/indexing.html#returning-a-view-versus-a-copy\n",
      "  df1['Surface area (km2)'] = pd.to_numeric(df1['Surface area (km2)'])\n"
     ]
    }
   ],
   "source": [
    "df1['Surface area (km2)'] = df1['Surface area (km2)'].str.replace('~', '')\n",
    "df1['Surface area (km2)'] = pd.to_numeric(df1['Surface area (km2)'])"
   ]
  },
  {
   "cell_type": "code",
   "execution_count": 17,
   "metadata": {},
   "outputs": [
    {
     "name": "stderr",
     "output_type": "stream",
     "text": [
      "C:\\Users\\ferna\\AppData\\Local\\Temp\\ipykernel_24044\\280712808.py:1: SettingWithCopyWarning: \n",
      "A value is trying to be set on a copy of a slice from a DataFrame.\n",
      "Try using .loc[row_indexer,col_indexer] = value instead\n",
      "\n",
      "See the caveats in the documentation: https://pandas.pydata.org/pandas-docs/stable/user_guide/indexing.html#returning-a-view-versus-a-copy\n",
      "  df1['GDP growth rate (annual %, const. 2005 prices)'] = df1['GDP growth rate (annual %, const. 2005 prices)'].str.replace('-~', '')\n",
      "C:\\Users\\ferna\\AppData\\Local\\Temp\\ipykernel_24044\\280712808.py:2: SettingWithCopyWarning: \n",
      "A value is trying to be set on a copy of a slice from a DataFrame.\n",
      "Try using .loc[row_indexer,col_indexer] = value instead\n",
      "\n",
      "See the caveats in the documentation: https://pandas.pydata.org/pandas-docs/stable/user_guide/indexing.html#returning-a-view-versus-a-copy\n",
      "  df1['GDP growth rate (annual %, const. 2005 prices)'] = pd.to_numeric(df1['GDP growth rate (annual %, const. 2005 prices)'])\n"
     ]
    }
   ],
   "source": [
    "df1['GDP growth rate (annual %, const. 2005 prices)'] = df1['GDP growth rate (annual %, const. 2005 prices)'].str.replace('-~', '')\n",
    "df1['GDP growth rate (annual %, const. 2005 prices)'] = pd.to_numeric(df1['GDP growth rate (annual %, const. 2005 prices)'])"
   ]
  },
  {
   "cell_type": "code",
   "execution_count": 18,
   "metadata": {},
   "outputs": [
    {
     "name": "stderr",
     "output_type": "stream",
     "text": [
      "C:\\Users\\ferna\\AppData\\Local\\Temp\\ipykernel_24044\\4051283986.py:1: SettingWithCopyWarning: \n",
      "A value is trying to be set on a copy of a slice from a DataFrame.\n",
      "Try using .loc[row_indexer,col_indexer] = value instead\n",
      "\n",
      "See the caveats in the documentation: https://pandas.pydata.org/pandas-docs/stable/user_guide/indexing.html#returning-a-view-versus-a-copy\n",
      "  df1['Economy: Agriculture (% of GVA)'] = pd.to_numeric(df1['GDP growth rate (annual %, const. 2005 prices)'])\n"
     ]
    }
   ],
   "source": [
    "df1['Economy: Agriculture (% of GVA)'] = pd.to_numeric(df1['GDP growth rate (annual %, const. 2005 prices)'])"
   ]
  },
  {
   "cell_type": "code",
   "execution_count": 19,
   "metadata": {},
   "outputs": [
    {
     "name": "stderr",
     "output_type": "stream",
     "text": [
      "C:\\Users\\ferna\\AppData\\Local\\Temp\\ipykernel_24044\\1702450861.py:1: FutureWarning: The default value of regex will change from True to False in a future version.\n",
      "  df1['Employment: Agriculture (% of employed)'] = df1['Employment: Agriculture (% of employed)'].str.replace('...', '')\n",
      "C:\\Users\\ferna\\AppData\\Local\\Temp\\ipykernel_24044\\1702450861.py:1: SettingWithCopyWarning: \n",
      "A value is trying to be set on a copy of a slice from a DataFrame.\n",
      "Try using .loc[row_indexer,col_indexer] = value instead\n",
      "\n",
      "See the caveats in the documentation: https://pandas.pydata.org/pandas-docs/stable/user_guide/indexing.html#returning-a-view-versus-a-copy\n",
      "  df1['Employment: Agriculture (% of employed)'] = df1['Employment: Agriculture (% of employed)'].str.replace('...', '')\n",
      "C:\\Users\\ferna\\AppData\\Local\\Temp\\ipykernel_24044\\1702450861.py:2: SettingWithCopyWarning: \n",
      "A value is trying to be set on a copy of a slice from a DataFrame.\n",
      "Try using .loc[row_indexer,col_indexer] = value instead\n",
      "\n",
      "See the caveats in the documentation: https://pandas.pydata.org/pandas-docs/stable/user_guide/indexing.html#returning-a-view-versus-a-copy\n",
      "  df1['Employment: Agriculture (% of employed)'] = pd.to_numeric(df1['Employment: Agriculture (% of employed)'])\n"
     ]
    }
   ],
   "source": [
    "df1['Employment: Agriculture (% of employed)'] = df1['Employment: Agriculture (% of employed)'].str.replace('...', '')\n",
    "df1['Employment: Agriculture (% of employed)'] = pd.to_numeric(df1['Employment: Agriculture (% of employed)'])"
   ]
  },
  {
   "cell_type": "code",
   "execution_count": 20,
   "metadata": {},
   "outputs": [
    {
     "name": "stderr",
     "output_type": "stream",
     "text": [
      "C:\\Users\\ferna\\AppData\\Local\\Temp\\ipykernel_24044\\244841756.py:1: FutureWarning: The default value of regex will change from True to False in a future version.\n",
      "  df1['Employment: Industry (% of employed)'] = df1['Employment: Industry (% of employed)'].str.replace('...', '')\n",
      "C:\\Users\\ferna\\AppData\\Local\\Temp\\ipykernel_24044\\244841756.py:1: SettingWithCopyWarning: \n",
      "A value is trying to be set on a copy of a slice from a DataFrame.\n",
      "Try using .loc[row_indexer,col_indexer] = value instead\n",
      "\n",
      "See the caveats in the documentation: https://pandas.pydata.org/pandas-docs/stable/user_guide/indexing.html#returning-a-view-versus-a-copy\n",
      "  df1['Employment: Industry (% of employed)'] = df1['Employment: Industry (% of employed)'].str.replace('...', '')\n",
      "C:\\Users\\ferna\\AppData\\Local\\Temp\\ipykernel_24044\\244841756.py:2: SettingWithCopyWarning: \n",
      "A value is trying to be set on a copy of a slice from a DataFrame.\n",
      "Try using .loc[row_indexer,col_indexer] = value instead\n",
      "\n",
      "See the caveats in the documentation: https://pandas.pydata.org/pandas-docs/stable/user_guide/indexing.html#returning-a-view-versus-a-copy\n",
      "  df1['Employment: Industry (% of employed)'] = pd.to_numeric(df1['Employment: Industry (% of employed)'])\n"
     ]
    }
   ],
   "source": [
    "df1['Employment: Industry (% of employed)'] = df1['Employment: Industry (% of employed)'].str.replace('...', '')\n",
    "df1['Employment: Industry (% of employed)'] = pd.to_numeric(df1['Employment: Industry (% of employed)'])"
   ]
  },
  {
   "cell_type": "code",
   "execution_count": 21,
   "metadata": {},
   "outputs": [
    {
     "name": "stderr",
     "output_type": "stream",
     "text": [
      "C:\\Users\\ferna\\AppData\\Local\\Temp\\ipykernel_24044\\473899689.py:1: FutureWarning: The default value of regex will change from True to False in a future version.\n",
      "  df1['Employment: Services (% of employed)'] = df1['Employment: Services (% of employed)'].str.replace('...', '')\n",
      "C:\\Users\\ferna\\AppData\\Local\\Temp\\ipykernel_24044\\473899689.py:1: SettingWithCopyWarning: \n",
      "A value is trying to be set on a copy of a slice from a DataFrame.\n",
      "Try using .loc[row_indexer,col_indexer] = value instead\n",
      "\n",
      "See the caveats in the documentation: https://pandas.pydata.org/pandas-docs/stable/user_guide/indexing.html#returning-a-view-versus-a-copy\n",
      "  df1['Employment: Services (% of employed)'] = df1['Employment: Services (% of employed)'].str.replace('...', '')\n",
      "C:\\Users\\ferna\\AppData\\Local\\Temp\\ipykernel_24044\\473899689.py:2: SettingWithCopyWarning: \n",
      "A value is trying to be set on a copy of a slice from a DataFrame.\n",
      "Try using .loc[row_indexer,col_indexer] = value instead\n",
      "\n",
      "See the caveats in the documentation: https://pandas.pydata.org/pandas-docs/stable/user_guide/indexing.html#returning-a-view-versus-a-copy\n",
      "  df1['Employment: Services (% of employed)'] = pd.to_numeric(df1['Employment: Services (% of employed)'])\n"
     ]
    }
   ],
   "source": [
    "df1['Employment: Services (% of employed)'] = df1['Employment: Services (% of employed)'].str.replace('...', '')\n",
    "df1['Employment: Services (% of employed)'] = pd.to_numeric(df1['Employment: Services (% of employed)'])"
   ]
  },
  {
   "cell_type": "code",
   "execution_count": 22,
   "metadata": {},
   "outputs": [
    {
     "name": "stdout",
     "output_type": "stream",
     "text": [
      "<class 'pandas.core.frame.DataFrame'>\n",
      "RangeIndex: 229 entries, 0 to 228\n",
      "Data columns (total 17 columns):\n",
      " #   Column                                                 Non-Null Count  Dtype  \n",
      "---  ------                                                 --------------  -----  \n",
      " 0   country                                                229 non-null    object \n",
      " 1   Region                                                 229 non-null    object \n",
      " 2   Surface area (km2)                                     229 non-null    int64  \n",
      " 3   Population in thousands (2017)                         229 non-null    int64  \n",
      " 4   Population density (per km2, 2017)                     229 non-null    float64\n",
      " 5   Sex ratio (m per 100 f, 2017)                          229 non-null    float64\n",
      " 6   GDP: Gross domestic product (million current US$)      229 non-null    int64  \n",
      " 7   GDP growth rate (annual %, const. 2005 prices)         229 non-null    float64\n",
      " 8   GDP per capita (current US$)                           229 non-null    float64\n",
      " 9   Economy: Agriculture (% of GVA)                        229 non-null    float64\n",
      " 10  Economy: Industry (% of GVA)                           229 non-null    float64\n",
      " 11  Economy: Services and other activity (% of GVA)        229 non-null    float64\n",
      " 12  Employment: Agriculture (% of employed)                118 non-null    float64\n",
      " 13  Employment: Industry (% of employed)                   164 non-null    float64\n",
      " 14  Employment: Services (% of employed)                   194 non-null    float64\n",
      " 15  Life expectancy at birth (females/males, years)        229 non-null    object \n",
      " 16  CO2 emission estimates (million tons/tons per capita)  229 non-null    int64  \n",
      "dtypes: float64(10), int64(4), object(3)\n",
      "memory usage: 30.5+ KB\n"
     ]
    }
   ],
   "source": [
    "df1.info()"
   ]
  },
  {
   "attachments": {},
   "cell_type": "markdown",
   "metadata": {},
   "source": [
    "## Visualization"
   ]
  },
  {
   "cell_type": "code",
   "execution_count": 23,
   "metadata": {},
   "outputs": [
    {
     "data": {
      "text/plain": [
       "<Axes: xlabel='Region', ylabel='Surface area (km2)'>"
      ]
     },
     "execution_count": 23,
     "metadata": {},
     "output_type": "execute_result"
    },
    {
     "data": {
      "image/png": "[encoded data removed]",
      "text/plain": [
       "<Figure size 640x480 with 1 Axes>"
      ]
     },
     "metadata": {},
     "output_type": "display_data"
    }
   ],
   "source": [
    "sns.barplot(x='Region', \n",
    "            y='Surface area (km2)',\n",
    "            data=df1.nlargest(5, 'Surface area (km2)'))"
   ]
  },
  {
   "cell_type": "code",
   "execution_count": 25,
   "metadata": {},
   "outputs": [
    {
     "data": {
      "text/plain": [
       "<Axes: ylabel='Population in thousands (2017)'>"
      ]
     },
     "execution_count": 25,
     "metadata": {},
     "output_type": "execute_result"
    },
    {
     "data": {
      "image/png": "[encoded data removed]",
      "text/plain": [
       "<Figure size 1000x5000 with 1 Axes>"
      ]
     },
     "metadata": {},
     "output_type": "display_data"
    }
   ],
   "source": [
    "c = df1.groupby('country')['Population in thousands (2017)'].sum().round().reset_index()\n",
    "ans = c.sort_values('Population in thousands (2017)',ascending=False).head(5)\n",
    "ans.plot(kind = \"pie\",y=\"Population in thousands (2017)\",labels=ans['country'],legend=False,figsize=(10,50),autopct=\"%.2f%%\" )"
   ]
  },
  {
   "cell_type": "code",
   "execution_count": 26,
   "metadata": {},
   "outputs": [
    {
     "data": {
      "application/vnd.plotly.v1+json": {
       "config": {
        "plotlyServerURL": "https://plot.ly"
       },
       "data": [
        {
         "alignmentgroup": "True",
         "bingroup": "x",
         "hovertemplate": "Sex ratio (m per 100 f, 2017)=%{x}<br>count=%{y}<extra></extra>",
         "legendgroup": "",
         "marker": {
          "color": "#636efa",
          "pattern": {
           "shape": ""
          }
         },
         "name": "",
         "offsetgroup": "",
         "orientation": "v",
         "showlegend": false,
         "type": "histogram",
         "x": [
          106.3,
          101.9,
          102,
          103.6,
          102.3,
          96.2,
          97.6,
          92.3,
          95.9,
          88.8,
          90.4,
          99.3,
          96.2,
          99.3,
          95.9,
          168.3,
          101.7,
          91.9,
          87,
          97.3,
          99.2,
          99.5,
          91.4,
          113.1,
          100.2,
          -99,
          96.4,
          97.7,
          96.6,
          97.1,
          106,
          94.6,
          99.5,
          96.9,
          99.3,
          95.3,
          100.2,
          98.5,
          100.4,
          97.3,
          100.2,
          98.4,
          98.2,
          85.1,
          92.3,
          106.3,
          96.8,
          101.8,
          100.1,
          97.4,
          100.1,
          93.1,
          100.1,
          100.2,
          96.7,
          95.7,
          99.6,
          99,
          100.7,
          103,
          99.2,
          99.9,
          102.3,
          88.5,
          124,
          100.4,
          88.2,
          99.7,
          110.5,
          107.2,
          103.1,
          97.2,
          96.7,
          100,
          103.7,
          105.6,
          98,
          91.4,
          97,
          99.3,
          101.8,
          96.9,
          112.1,
          100.9,
          86.4,
          102.6,
          96.9,
          96.9,
          100.6,
          101.9,
          97.8,
          219.2,
          99.4,
          90.7,
          100.7,
          107.6,
          101.4,
          101.2,
          102.5,
          98.4,
          98.2,
          98.7,
          95.1,
          99,
          95.4,
          102.6,
          93.9,
          98.8,
          97.3,
          134.9,
          98.4,
          99.5,
          84.9,
          100.6,
          94.4,
          101.8,
          101.7,
          98.4,
          85.4,
          101,
          99.5,
          98.2,
          106.7,
          131.8,
          100.2,
          100.9,
          104.5,
          83.5,
          101.6,
          97.9,
          96.7,
          99.2,
          105.1,
          94.7,
          97.9,
          97.4,
          106,
          98.1,
          95.5,
          95.5,
          94.7,
          101.9,
          94.3,
          99,
          101.5,
          96.7,
          97.2,
          100.6,
          102.7,
          100,
          107.1,
          101.8,
          192.8,
          105.6,
          113.3,
          100.4,
          103.5,
          102.9,
          99.8,
          101.3,
          93.4,
          89.8,
          92.6,
          301.2,
          100.2,
          92.2,
          94,
          86.8,
          96.2,
          -99,
          97,
          95.9,
          98.2,
          101.7,
          106.6,
          94.9,
          99.2,
          132.9,
          96.6,
          95.6,
          97.2,
          98.1,
          97.7,
          95.7,
          94.6,
          98.6,
          103.4,
          99.3,
          96.4,
          100.4,
          96.2,
          92.5,
          102.9,
          99.9,
          100.7,
          93.9,
          100.2,
          98.2,
          102.1,
          100.9,
          95.2,
          100,
          103.2,
          99.4,
          100,
          100.7,
          97.1,
          97.6,
          97,
          97,
          104.1,
          102,
          99,
          86,
          262.4,
          97.4,
          97.8,
          98,
          91.1,
          93.5,
          99.4,
          102.4,
          99,
          98,
          93.4,
          110.1,
          102.1,
          98.5,
          95
         ],
         "xaxis": "x",
         "yaxis": "y"
        }
       ],
       "layout": {
        "barmode": "relative",
        "legend": {
         "tracegroupgap": 0
        },
        "margin": {
         "t": 60
        },
        "template": {
         "data": {
          "bar": [
           {
            "error_x": {
             "color": "#2a3f5f"
            },
            "error_y": {
             "color": "#2a3f5f"
            },
            "marker": {
             "line": {
              "color": "#E5ECF6",
              "width": 0.5
             },
             "pattern": {
              "fillmode": "overlay",
              "size": 10,
              "solidity": 0.2
             }
            },
            "type": "bar"
           }
          ],
          "barpolar": [
           {
            "marker": {
             "line": {
              "color": "#E5ECF6",
              "width": 0.5
             },
             "pattern": {
              "fillmode": "overlay",
              "size": 10,
              "solidity": 0.2
             }
            },
            "type": "barpolar"
           }
          ],
          "carpet": [
           {
            "aaxis": {
             "endlinecolor": "#2a3f5f",
             "gridcolor": "white",
             "linecolor": "white",
             "minorgridcolor": "white",
             "startlinecolor": "#2a3f5f"
            },
            "baxis": {
             "endlinecolor": "#2a3f5f",
             "gridcolor": "white",
             "linecolor": "white",
             "minorgridcolor": "white",
             "startlinecolor": "#2a3f5f"
            },
            "type": "carpet"
           }
          ],
          "choropleth": [
           {
            "colorbar": {
             "outlinewidth": 0,
             "ticks": ""
            },
            "type": "choropleth"
           }
          ],
          "contour": [
           {
            "colorbar": {
             "outlinewidth": 0,
             "ticks": ""
            },
            "colorscale": [
             [
              0,
              "#0d0887"
             ],
             [
              0.1111111111111111,
              "#46039f"
             ],
             [
              0.2222222222222222,
              "#7201a8"
             ],
             [
              0.3333333333333333,
              "#9c179e"
             ],
             [
              0.4444444444444444,
              "#bd3786"
             ],
             [
              0.5555555555555556,
              "#d8576b"
             ],
             [
              0.6666666666666666,
              "#ed7953"
             ],
             [
              0.7777777777777778,
              "#fb9f3a"
             ],
             [
              0.8888888888888888,
              "#fdca26"
             ],
             [
              1,
              "#f0f921"
             ]
            ],
            "type": "contour"
           }
          ],
          "contourcarpet": [
           {
            "colorbar": {
             "outlinewidth": 0,
             "ticks": ""
            },
            "type": "contourcarpet"
           }
          ],
          "heatmap": [
           {
            "colorbar": {
             "outlinewidth": 0,
             "ticks": ""
            },
            "colorscale": [
             [
              0,
              "#0d0887"
             ],
             [
              0.1111111111111111,
              "#46039f"
             ],
             [
              0.2222222222222222,
              "#7201a8"
             ],
             [
              0.3333333333333333,
              "#9c179e"
             ],
             [
              0.4444444444444444,
              "#bd3786"
             ],
             [
              0.5555555555555556,
              "#d8576b"
             ],
             [
              0.6666666666666666,
              "#ed7953"
             ],
             [
              0.7777777777777778,
              "#fb9f3a"
             ],
             [
              0.8888888888888888,
              "#fdca26"
             ],
             [
              1,
              "#f0f921"
             ]
            ],
            "type": "heatmap"
           }
          ],
          "heatmapgl": [
           {
            "colorbar": {
             "outlinewidth": 0,
             "ticks": ""
            },
            "colorscale": [
             [
              0,
              "#0d0887"
             ],
             [
              0.1111111111111111,
              "#46039f"
             ],
             [
              0.2222222222222222,
              "#7201a8"
             ],
             [
              0.3333333333333333,
              "#9c179e"
             ],
             [
              0.4444444444444444,
              "#bd3786"
             ],
             [
              0.5555555555555556,
              "#d8576b"
             ],
             [
              0.6666666666666666,
              "#ed7953"
             ],
             [
              0.7777777777777778,
              "#fb9f3a"
             ],
             [
              0.8888888888888888,
              "#fdca26"
             ],
             [
              1,
              "#f0f921"
             ]
            ],
            "type": "heatmapgl"
           }
          ],
          "histogram": [
           {
            "marker": {
             "pattern": {
              "fillmode": "overlay",
              "size": 10,
              "solidity": 0.2
             }
            },
            "type": "histogram"
           }
          ],
          "histogram2d": [
           {
            "colorbar": {
             "outlinewidth": 0,
             "ticks": ""
            },
            "colorscale": [
             [
              0,
              "#0d0887"
             ],
             [
              0.1111111111111111,
              "#46039f"
             ],
             [
              0.2222222222222222,
              "#7201a8"
             ],
             [
              0.3333333333333333,
              "#9c179e"
             ],
             [
              0.4444444444444444,
              "#bd3786"
             ],
             [
              0.5555555555555556,
              "#d8576b"
             ],
             [
              0.6666666666666666,
              "#ed7953"
             ],
             [
              0.7777777777777778,
              "#fb9f3a"
             ],
             [
              0.8888888888888888,
              "#fdca26"
             ],
             [
              1,
              "#f0f921"
             ]
            ],
            "type": "histogram2d"
           }
          ],
          "histogram2dcontour": [
           {
            "colorbar": {
             "outlinewidth": 0,
             "ticks": ""
            },
            "colorscale": [
             [
              0,
              "#0d0887"
             ],
             [
              0.1111111111111111,
              "#46039f"
             ],
             [
              0.2222222222222222,
              "#7201a8"
             ],
             [
              0.3333333333333333,
              "#9c179e"
             ],
             [
              0.4444444444444444,
              "#bd3786"
             ],
             [
              0.5555555555555556,
              "#d8576b"
             ],
             [
              0.6666666666666666,
              "#ed7953"
             ],
             [
              0.7777777777777778,
              "#fb9f3a"
             ],
             [
              0.8888888888888888,
              "#fdca26"
             ],
             [
              1,
              "#f0f921"
             ]
            ],
            "type": "histogram2dcontour"
           }
          ],
          "mesh3d": [
           {
            "colorbar": {
             "outlinewidth": 0,
             "ticks": ""
            },
            "type": "mesh3d"
           }
          ],
          "parcoords": [
           {
            "line": {
             "colorbar": {
              "outlinewidth": 0,
              "ticks": ""
             }
            },
            "type": "parcoords"
           }
          ],
          "pie": [
           {
            "automargin": true,
            "type": "pie"
           }
          ],
          "scatter": [
           {
            "fillpattern": {
             "fillmode": "overlay",
             "size": 10,
             "solidity": 0.2
            },
            "type": "scatter"
           }
          ],
          "scatter3d": [
           {
            "line": {
             "colorbar": {
              "outlinewidth": 0,
              "ticks": ""
             }
            },
            "marker": {
             "colorbar": {
              "outlinewidth": 0,
              "ticks": ""
             }
            },
            "type": "scatter3d"
           }
          ],
          "scattercarpet": [
           {
            "marker": {
             "colorbar": {
              "outlinewidth": 0,
              "ticks": ""
             }
            },
            "type": "scattercarpet"
           }
          ],
          "scattergeo": [
           {
            "marker": {
             "colorbar": {
              "outlinewidth": 0,
              "ticks": ""
             }
            },
            "type": "scattergeo"
           }
          ],
          "scattergl": [
           {
            "marker": {
             "colorbar": {
              "outlinewidth": 0,
              "ticks": ""
             }
            },
            "type": "scattergl"
           }
          ],
          "scattermapbox": [
           {
            "marker": {
             "colorbar": {
              "outlinewidth": 0,
              "ticks": ""
             }
            },
            "type": "scattermapbox"
           }
          ],
          "scatterpolar": [
           {
            "marker": {
             "colorbar": {
              "outlinewidth": 0,
              "ticks": ""
             }
            },
            "type": "scatterpolar"
           }
          ],
          "scatterpolargl": [
           {
            "marker": {
             "colorbar": {
              "outlinewidth": 0,
              "ticks": ""
             }
            },
            "type": "scatterpolargl"
           }
          ],
          "scatterternary": [
           {
            "marker": {
             "colorbar": {
              "outlinewidth": 0,
              "ticks": ""
             }
            },
            "type": "scatterternary"
           }
          ],
          "surface": [
           {
            "colorbar": {
             "outlinewidth": 0,
             "ticks": ""
            },
            "colorscale": [
             [
              0,
              "#0d0887"
             ],
             [
              0.1111111111111111,
              "#46039f"
             ],
             [
              0.2222222222222222,
              "#7201a8"
             ],
             [
              0.3333333333333333,
              "#9c179e"
             ],
             [
              0.4444444444444444,
              "#bd3786"
             ],
             [
              0.5555555555555556,
              "#d8576b"
             ],
             [
              0.6666666666666666,
              "#ed7953"
             ],
             [
              0.7777777777777778,
              "#fb9f3a"
             ],
             [
              0.8888888888888888,
              "#fdca26"
             ],
             [
              1,
              "#f0f921"
             ]
            ],
            "type": "surface"
           }
          ],
          "table": [
           {
            "cells": {
             "fill": {
              "color": "#EBF0F8"
             },
             "line": {
              "color": "white"
             }
            },
            "header": {
             "fill": {
              "color": "#C8D4E3"
             },
             "line": {
              "color": "white"
             }
            },
            "type": "table"
           }
          ]
         },
         "layout": {
          "annotationdefaults": {
           "arrowcolor": "#2a3f5f",
           "arrowhead": 0,
           "arrowwidth": 1
          },
          "autotypenumbers": "strict",
          "coloraxis": {
           "colorbar": {
            "outlinewidth": 0,
            "ticks": ""
           }
          },
          "colorscale": {
           "diverging": [
            [
             0,
             "#8e0152"
            ],
            [
             0.1,
             "#c51b7d"
            ],
            [
             0.2,
             "#de77ae"
            ],
            [
             0.3,
             "#f1b6da"
            ],
            [
             0.4,
             "#fde0ef"
            ],
            [
             0.5,
             "#f7f7f7"
            ],
            [
             0.6,
             "#e6f5d0"
            ],
            [
             0.7,
             "#b8e186"
            ],
            [
             0.8,
             "#7fbc41"
            ],
            [
             0.9,
             "#4d9221"
            ],
            [
             1,
             "#276419"
            ]
           ],
           "sequential": [
            [
             0,
             "#0d0887"
            ],
            [
             0.1111111111111111,
             "#46039f"
            ],
            [
             0.2222222222222222,
             "#7201a8"
            ],
            [
             0.3333333333333333,
             "#9c179e"
            ],
            [
             0.4444444444444444,
             "#bd3786"
            ],
            [
             0.5555555555555556,
             "#d8576b"
            ],
            [
             0.6666666666666666,
             "#ed7953"
            ],
            [
             0.7777777777777778,
             "#fb9f3a"
            ],
            [
             0.8888888888888888,
             "#fdca26"
            ],
            [
             1,
             "#f0f921"
            ]
           ],
           "sequentialminus": [
            [
             0,
             "#0d0887"
            ],
            [
             0.1111111111111111,
             "#46039f"
            ],
            [
             0.2222222222222222,
             "#7201a8"
            ],
            [
             0.3333333333333333,
             "#9c179e"
            ],
            [
             0.4444444444444444,
             "#bd3786"
            ],
            [
             0.5555555555555556,
             "#d8576b"
            ],
            [
             0.6666666666666666,
             "#ed7953"
            ],
            [
             0.7777777777777778,
             "#fb9f3a"
            ],
            [
             0.8888888888888888,
             "#fdca26"
            ],
            [
             1,
             "#f0f921"
            ]
           ]
          },
          "colorway": [
           "#636efa",
           "#EF553B",
           "#00cc96",
           "#ab63fa",
           "#FFA15A",
           "#19d3f3",
           "#FF6692",
           "#B6E880",
           "#FF97FF",
           "#FECB52"
          ],
          "font": {
           "color": "#2a3f5f"
          },
          "geo": {
           "bgcolor": "white",
           "lakecolor": "white",
           "landcolor": "#E5ECF6",
           "showlakes": true,
           "showland": true,
           "subunitcolor": "white"
          },
          "hoverlabel": {
           "align": "left"
          },
          "hovermode": "closest",
          "mapbox": {
           "style": "light"
          },
          "paper_bgcolor": "white",
          "plot_bgcolor": "#E5ECF6",
          "polar": {
           "angularaxis": {
            "gridcolor": "white",
            "linecolor": "white",
            "ticks": ""
           },
           "bgcolor": "#E5ECF6",
           "radialaxis": {
            "gridcolor": "white",
            "linecolor": "white",
            "ticks": ""
           }
          },
          "scene": {
           "xaxis": {
            "backgroundcolor": "#E5ECF6",
            "gridcolor": "white",
            "gridwidth": 2,
            "linecolor": "white",
            "showbackground": true,
            "ticks": "",
            "zerolinecolor": "white"
           },
           "yaxis": {
            "backgroundcolor": "#E5ECF6",
            "gridcolor": "white",
            "gridwidth": 2,
            "linecolor": "white",
            "showbackground": true,
            "ticks": "",
            "zerolinecolor": "white"
           },
           "zaxis": {
            "backgroundcolor": "#E5ECF6",
            "gridcolor": "white",
            "gridwidth": 2,
            "linecolor": "white",
            "showbackground": true,
            "ticks": "",
            "zerolinecolor": "white"
           }
          },
          "shapedefaults": {
           "line": {
            "color": "#2a3f5f"
           }
          },
          "ternary": {
           "aaxis": {
            "gridcolor": "white",
            "linecolor": "white",
            "ticks": ""
           },
           "baxis": {
            "gridcolor": "white",
            "linecolor": "white",
            "ticks": ""
           },
           "bgcolor": "#E5ECF6",
           "caxis": {
            "gridcolor": "white",
            "linecolor": "white",
            "ticks": ""
           }
          },
          "title": {
           "x": 0.05
          },
          "xaxis": {
           "automargin": true,
           "gridcolor": "white",
           "linecolor": "white",
           "ticks": "",
           "title": {
            "standoff": 15
           },
           "zerolinecolor": "white",
           "zerolinewidth": 2
          },
          "yaxis": {
           "automargin": true,
           "gridcolor": "white",
           "linecolor": "white",
           "ticks": "",
           "title": {
            "standoff": 15
           },
           "zerolinecolor": "white",
           "zerolinewidth": 2
          }
         }
        },
        "xaxis": {
         "anchor": "y",
         "domain": [
          0,
          1
         ],
         "title": {
          "text": "Sex ratio (m per 100 f, 2017)"
         }
        },
        "yaxis": {
         "anchor": "x",
         "domain": [
          0,
          1
         ],
         "title": {
          "text": "count"
         }
        }
       }
      }
     },
     "metadata": {},
     "output_type": "display_data"
    }
   ],
   "source": [
    "import plotly.express as px\n",
    "fig = px.histogram(df1, x = 'Sex ratio (m per 100 f, 2017)')\n",
    "fig.show()"
   ]
  },
  {
   "cell_type": "code",
   "execution_count": 37,
   "metadata": {},
   "outputs": [
    {
     "data": {
      "text/plain": [
       "country                                                  0\n",
       "Region                                                   0\n",
       "Surface area (km2)                                       0\n",
       "Population in thousands (2017)                           0\n",
       "Population density (per km2, 2017)                       0\n",
       "Sex ratio (m per 100 f, 2017)                            0\n",
       "GDP: Gross domestic product (million current US$)        0\n",
       "GDP growth rate (annual %, const. 2005 prices)           0\n",
       "GDP per capita (current US$)                             0\n",
       "Economy: Agriculture (% of GVA)                          0\n",
       "Economy: Industry (% of GVA)                             0\n",
       "Economy: Services and other activity (% of GVA)          0\n",
       "Employment: Agriculture (% of employed)                  0\n",
       "Employment: Industry (% of employed)                     0\n",
       "Employment: Services (% of employed)                     0\n",
       "Life expectancy at birth (females/males, years)          0\n",
       "CO2 emission estimates (million tons/tons per capita)    0\n",
       "dtype: int64"
      ]
     },
     "execution_count": 37,
     "metadata": {},
     "output_type": "execute_result"
    }
   ],
   "source": [
    "df1.isnull().sum()"
   ]
  },
  {
   "cell_type": "code",
   "execution_count": 29,
   "metadata": {},
   "outputs": [
    {
     "name": "stderr",
     "output_type": "stream",
     "text": [
      "C:\\Users\\ferna\\AppData\\Local\\Temp\\ipykernel_24044\\4227917308.py:1: SettingWithCopyWarning:\n",
      "\n",
      "\n",
      "A value is trying to be set on a copy of a slice from a DataFrame.\n",
      "Try using .loc[row_indexer,col_indexer] = value instead\n",
      "\n",
      "See the caveats in the documentation: https://pandas.pydata.org/pandas-docs/stable/user_guide/indexing.html#returning-a-view-versus-a-copy\n",
      "\n"
     ]
    }
   ],
   "source": [
    "df1['Employment: Agriculture (% of employed)'] = df1['Employment: Agriculture (% of employed)'].fillna(0)"
   ]
  },
  {
   "cell_type": "code",
   "execution_count": 30,
   "metadata": {},
   "outputs": [
    {
     "name": "stderr",
     "output_type": "stream",
     "text": [
      "C:\\Users\\ferna\\AppData\\Local\\Temp\\ipykernel_24044\\362464862.py:1: SettingWithCopyWarning:\n",
      "\n",
      "\n",
      "A value is trying to be set on a copy of a slice from a DataFrame.\n",
      "Try using .loc[row_indexer,col_indexer] = value instead\n",
      "\n",
      "See the caveats in the documentation: https://pandas.pydata.org/pandas-docs/stable/user_guide/indexing.html#returning-a-view-versus-a-copy\n",
      "\n"
     ]
    }
   ],
   "source": [
    "df1['Employment: Industry (% of employed)'] = df1['Employment: Industry (% of employed)'].fillna(0)"
   ]
  },
  {
   "cell_type": "code",
   "execution_count": 31,
   "metadata": {},
   "outputs": [
    {
     "name": "stderr",
     "output_type": "stream",
     "text": [
      "C:\\Users\\ferna\\AppData\\Local\\Temp\\ipykernel_24044\\118461882.py:1: SettingWithCopyWarning:\n",
      "\n",
      "\n",
      "A value is trying to be set on a copy of a slice from a DataFrame.\n",
      "Try using .loc[row_indexer,col_indexer] = value instead\n",
      "\n",
      "See the caveats in the documentation: https://pandas.pydata.org/pandas-docs/stable/user_guide/indexing.html#returning-a-view-versus-a-copy\n",
      "\n"
     ]
    }
   ],
   "source": [
    "df1['Employment: Services (% of employed)'] = df1['Employment: Services (% of employed)'].fillna(0)"
   ]
  },
  {
   "cell_type": "code",
   "execution_count": 32,
   "metadata": {},
   "outputs": [
    {
     "data": {
      "application/vnd.plotly.v1+json": {
       "config": {
        "plotlyServerURL": "https://plot.ly"
       },
       "data": [
        {
         "alignmentgroup": "True",
         "hovertemplate": "Employment: Services (% of employed)=%{y}<extra></extra>",
         "legendgroup": "",
         "marker": {
          "color": "#636efa"
         },
         "name": "",
         "notched": false,
         "offsetgroup": "",
         "orientation": "v",
         "showlegend": false,
         "type": "box",
         "x0": " ",
         "xaxis": "x",
         "y": [
          "28.5",
          "40.3",
          "54.7",
          "...",
          "-99",
          "58.2",
          "...",
          "...",
          "73.1",
          "49.3",
          "85.1",
          "76.1",
          "69.7",
          "49.1",
          "81.9",
          "65.6",
          "40.3",
          "77.9",
          "58.4",
          "77.6",
          "67.9",
          "46.6",
          "87.6",
          "33.7",
          "49.4",
          "-99",
          "51.7",
          "59.4",
          "63.2",
          "...",
          "80.1",
          "64.1",
          "15.1",
          "6.3",
          "61.3",
          "38.0",
          "29.5",
          "78.4",
          "83.6",
          "23.4",
          "21.4",
          "70.5",
          "67.5",
          "84.9",
          "82.1",
          "49.1",
          "69.9",
          "32.8",
          "33.5",
          "84.0",
          "69.3",
          "64.0",
          "75.3",
          "79.2",
          "60.5",
          "21.8",
          "28.9",
          "78.4",
          "53.2",
          "...",
          "70.0",
          "55.1",
          "49.3",
          "61.2",
          "63.2",
          "35.4",
          "67.3",
          "21.1",
          "-99",
          "...",
          "75.8",
          "73.8",
          "76.8",
          "58.3",
          "74.2",
          "64.8",
          "55.2",
          "44.1",
          "71.2",
          "43.8",
          "-99",
          "72.1",
          "82.5",
          "-99",
          "65.5",
          "85.7",
          "49.4",
          "34.1",
          "22.9",
          "56.2",
          "40.6",
          "-99",
          "49.0",
          "65.9",
          "78.2",
          "31.2",
          "46.2",
          "50.9",
          "58.6",
          "77.4",
          "...",
          "81.0",
          "69.4",
          "66.8",
          "69.8",
          "80.2",
          "61.6",
          "29.5",
          "...",
          "70.1",
          "49.8",
          "17.7",
          "69.7",
          "69.4",
          "40.3",
          "43.0",
          "55.8",
          "-99",
          "66.8",
          "88.5",
          "16.5",
          "25.4",
          "60.9",
          "69.5",
          "28.6",
          "77.9",
          "...",
          "69.0",
          "50.2",
          "67.5",
          "-99",
          "61.3",
          "-99",
          "-99",
          "51.0",
          "75.2",
          "-99",
          "46.8",
          "21.0",
          "61.7",
          "56.3",
          "-99",
          "16.5",
          "81.9",
          "70.1",
          "72.6",
          "61.4",
          "23.3",
          "57.4",
          "...",
          "...",
          "77.6",
          "55.4",
          "38.1",
          "...",
          "65.9",
          "26.0",
          "61.0",
          "58.3",
          "56.1",
          "59.5",
          "68.2",
          "80.5",
          "44.7",
          "70.3",
          "40.3",
          "46.8",
          "66.1",
          "17.8",
          "...",
          "...",
          "67.6",
          "-99",
          "61.8",
          "79.8",
          "...",
          "64.3",
          "71.4",
          "27.9",
          "56.1",
          "78.2",
          "25.5",
          "82.6",
          "-99",
          "62.2",
          "61.5",
          "49.5",
          "23.2",
          "67.7",
          "-99",
          "76.8",
          "46.6",
          "61.5",
          "46.7",
          "74.3",
          "61.0",
          "79.9",
          "76.1",
          "42.3",
          "29.4",
          "43.3",
          "54.5",
          "47.2",
          "28.7",
          "-99",
          "38.5",
          "64.3",
          "58.9",
          "52.9",
          "44.7",
          "...",
          "-99",
          "20.5",
          "59.7",
          "75.4",
          "80.4",
          "26.7",
          "81.3",
          "65.2",
          "70.8",
          "47.1",
          "31.8",
          "61.3",
          "35.2",
          "-99",
          "34.7",
          "49.2",
          "35.3",
          "25.2"
         ],
         "y0": " ",
         "yaxis": "y"
        }
       ],
       "layout": {
        "boxmode": "group",
        "legend": {
         "tracegroupgap": 0
        },
        "margin": {
         "t": 60
        },
        "template": {
         "data": {
          "bar": [
           {
            "error_x": {
             "color": "#2a3f5f"
            },
            "error_y": {
             "color": "#2a3f5f"
            },
            "marker": {
             "line": {
              "color": "#E5ECF6",
              "width": 0.5
             },
             "pattern": {
              "fillmode": "overlay",
              "size": 10,
              "solidity": 0.2
             }
            },
            "type": "bar"
           }
          ],
          "barpolar": [
           {
            "marker": {
             "line": {
              "color": "#E5ECF6",
              "width": 0.5
             },
             "pattern": {
              "fillmode": "overlay",
              "size": 10,
              "solidity": 0.2
             }
            },
            "type": "barpolar"
           }
          ],
          "carpet": [
           {
            "aaxis": {
             "endlinecolor": "#2a3f5f",
             "gridcolor": "white",
             "linecolor": "white",
             "minorgridcolor": "white",
             "startlinecolor": "#2a3f5f"
            },
            "baxis": {
             "endlinecolor": "#2a3f5f",
             "gridcolor": "white",
             "linecolor": "white",
             "minorgridcolor": "white",
             "startlinecolor": "#2a3f5f"
            },
            "type": "carpet"
           }
          ],
          "choropleth": [
           {
            "colorbar": {
             "outlinewidth": 0,
             "ticks": ""
            },
            "type": "choropleth"
           }
          ],
          "contour": [
           {
            "colorbar": {
             "outlinewidth": 0,
             "ticks": ""
            },
            "colorscale": [
             [
              0,
              "#0d0887"
             ],
             [
              0.1111111111111111,
              "#46039f"
             ],
             [
              0.2222222222222222,
              "#7201a8"
             ],
             [
              0.3333333333333333,
              "#9c179e"
             ],
             [
              0.4444444444444444,
              "#bd3786"
             ],
             [
              0.5555555555555556,
              "#d8576b"
             ],
             [
              0.6666666666666666,
              "#ed7953"
             ],
             [
              0.7777777777777778,
              "#fb9f3a"
             ],
             [
              0.8888888888888888,
              "#fdca26"
             ],
             [
              1,
              "#f0f921"
             ]
            ],
            "type": "contour"
           }
          ],
          "contourcarpet": [
           {
            "colorbar": {
             "outlinewidth": 0,
             "ticks": ""
            },
            "type": "contourcarpet"
           }
          ],
          "heatmap": [
           {
            "colorbar": {
             "outlinewidth": 0,
             "ticks": ""
            },
            "colorscale": [
             [
              0,
              "#0d0887"
             ],
             [
              0.1111111111111111,
              "#46039f"
             ],
             [
              0.2222222222222222,
              "#7201a8"
             ],
             [
              0.3333333333333333,
              "#9c179e"
             ],
             [
              0.4444444444444444,
              "#bd3786"
             ],
             [
              0.5555555555555556,
              "#d8576b"
             ],
             [
              0.6666666666666666,
              "#ed7953"
             ],
             [
              0.7777777777777778,
              "#fb9f3a"
             ],
             [
              0.8888888888888888,
              "#fdca26"
             ],
             [
              1,
              "#f0f921"
             ]
            ],
            "type": "heatmap"
           }
          ],
          "heatmapgl": [
           {
            "colorbar": {
             "outlinewidth": 0,
             "ticks": ""
            },
            "colorscale": [
             [
              0,
              "#0d0887"
             ],
             [
              0.1111111111111111,
              "#46039f"
             ],
             [
              0.2222222222222222,
              "#7201a8"
             ],
             [
              0.3333333333333333,
              "#9c179e"
             ],
             [
              0.4444444444444444,
              "#bd3786"
             ],
             [
              0.5555555555555556,
              "#d8576b"
             ],
             [
              0.6666666666666666,
              "#ed7953"
             ],
             [
              0.7777777777777778,
              "#fb9f3a"
             ],
             [
              0.8888888888888888,
              "#fdca26"
             ],
             [
              1,
              "#f0f921"
             ]
            ],
            "type": "heatmapgl"
           }
          ],
          "histogram": [
           {
            "marker": {
             "pattern": {
              "fillmode": "overlay",
              "size": 10,
              "solidity": 0.2
             }
            },
            "type": "histogram"
           }
          ],
          "histogram2d": [
           {
            "colorbar": {
             "outlinewidth": 0,
             "ticks": ""
            },
            "colorscale": [
             [
              0,
              "#0d0887"
             ],
             [
              0.1111111111111111,
              "#46039f"
             ],
             [
              0.2222222222222222,
              "#7201a8"
             ],
             [
              0.3333333333333333,
              "#9c179e"
             ],
             [
              0.4444444444444444,
              "#bd3786"
             ],
             [
              0.5555555555555556,
              "#d8576b"
             ],
             [
              0.6666666666666666,
              "#ed7953"
             ],
             [
              0.7777777777777778,
              "#fb9f3a"
             ],
             [
              0.8888888888888888,
              "#fdca26"
             ],
             [
              1,
              "#f0f921"
             ]
            ],
            "type": "histogram2d"
           }
          ],
          "histogram2dcontour": [
           {
            "colorbar": {
             "outlinewidth": 0,
             "ticks": ""
            },
            "colorscale": [
             [
              0,
              "#0d0887"
             ],
             [
              0.1111111111111111,
              "#46039f"
             ],
             [
              0.2222222222222222,
              "#7201a8"
             ],
             [
              0.3333333333333333,
              "#9c179e"
             ],
             [
              0.4444444444444444,
              "#bd3786"
             ],
             [
              0.5555555555555556,
              "#d8576b"
             ],
             [
              0.6666666666666666,
              "#ed7953"
             ],
             [
              0.7777777777777778,
              "#fb9f3a"
             ],
             [
              0.8888888888888888,
              "#fdca26"
             ],
             [
              1,
              "#f0f921"
             ]
            ],
            "type": "histogram2dcontour"
           }
          ],
          "mesh3d": [
           {
            "colorbar": {
             "outlinewidth": 0,
             "ticks": ""
            },
            "type": "mesh3d"
           }
          ],
          "parcoords": [
           {
            "line": {
             "colorbar": {
              "outlinewidth": 0,
              "ticks": ""
             }
            },
            "type": "parcoords"
           }
          ],
          "pie": [
           {
            "automargin": true,
            "type": "pie"
           }
          ],
          "scatter": [
           {
            "fillpattern": {
             "fillmode": "overlay",
             "size": 10,
             "solidity": 0.2
            },
            "type": "scatter"
           }
          ],
          "scatter3d": [
           {
            "line": {
             "colorbar": {
              "outlinewidth": 0,
              "ticks": ""
             }
            },
            "marker": {
             "colorbar": {
              "outlinewidth": 0,
              "ticks": ""
             }
            },
            "type": "scatter3d"
           }
          ],
          "scattercarpet": [
           {
            "marker": {
             "colorbar": {
              "outlinewidth": 0,
              "ticks": ""
             }
            },
            "type": "scattercarpet"
           }
          ],
          "scattergeo": [
           {
            "marker": {
             "colorbar": {
              "outlinewidth": 0,
              "ticks": ""
             }
            },
            "type": "scattergeo"
           }
          ],
          "scattergl": [
           {
            "marker": {
             "colorbar": {
              "outlinewidth": 0,
              "ticks": ""
             }
            },
            "type": "scattergl"
           }
          ],
          "scattermapbox": [
           {
            "marker": {
             "colorbar": {
              "outlinewidth": 0,
              "ticks": ""
             }
            },
            "type": "scattermapbox"
           }
          ],
          "scatterpolar": [
           {
            "marker": {
             "colorbar": {
              "outlinewidth": 0,
              "ticks": ""
             }
            },
            "type": "scatterpolar"
           }
          ],
          "scatterpolargl": [
           {
            "marker": {
             "colorbar": {
              "outlinewidth": 0,
              "ticks": ""
             }
            },
            "type": "scatterpolargl"
           }
          ],
          "scatterternary": [
           {
            "marker": {
             "colorbar": {
              "outlinewidth": 0,
              "ticks": ""
             }
            },
            "type": "scatterternary"
           }
          ],
          "surface": [
           {
            "colorbar": {
             "outlinewidth": 0,
             "ticks": ""
            },
            "colorscale": [
             [
              0,
              "#0d0887"
             ],
             [
              0.1111111111111111,
              "#46039f"
             ],
             [
              0.2222222222222222,
              "#7201a8"
             ],
             [
              0.3333333333333333,
              "#9c179e"
             ],
             [
              0.4444444444444444,
              "#bd3786"
             ],
             [
              0.5555555555555556,
              "#d8576b"
             ],
             [
              0.6666666666666666,
              "#ed7953"
             ],
             [
              0.7777777777777778,
              "#fb9f3a"
             ],
             [
              0.8888888888888888,
              "#fdca26"
             ],
             [
              1,
              "#f0f921"
             ]
            ],
            "type": "surface"
           }
          ],
          "table": [
           {
            "cells": {
             "fill": {
              "color": "#EBF0F8"
             },
             "line": {
              "color": "white"
             }
            },
            "header": {
             "fill": {
              "color": "#C8D4E3"
             },
             "line": {
              "color": "white"
             }
            },
            "type": "table"
           }
          ]
         },
         "layout": {
          "annotationdefaults": {
           "arrowcolor": "#2a3f5f",
           "arrowhead": 0,
           "arrowwidth": 1
          },
          "autotypenumbers": "strict",
          "coloraxis": {
           "colorbar": {
            "outlinewidth": 0,
            "ticks": ""
           }
          },
          "colorscale": {
           "diverging": [
            [
             0,
             "#8e0152"
            ],
            [
             0.1,
             "#c51b7d"
            ],
            [
             0.2,
             "#de77ae"
            ],
            [
             0.3,
             "#f1b6da"
            ],
            [
             0.4,
             "#fde0ef"
            ],
            [
             0.5,
             "#f7f7f7"
            ],
            [
             0.6,
             "#e6f5d0"
            ],
            [
             0.7,
             "#b8e186"
            ],
            [
             0.8,
             "#7fbc41"
            ],
            [
             0.9,
             "#4d9221"
            ],
            [
             1,
             "#276419"
            ]
           ],
           "sequential": [
            [
             0,
             "#0d0887"
            ],
            [
             0.1111111111111111,
             "#46039f"
            ],
            [
             0.2222222222222222,
             "#7201a8"
            ],
            [
             0.3333333333333333,
             "#9c179e"
            ],
            [
             0.4444444444444444,
             "#bd3786"
            ],
            [
             0.5555555555555556,
             "#d8576b"
            ],
            [
             0.6666666666666666,
             "#ed7953"
            ],
            [
             0.7777777777777778,
             "#fb9f3a"
            ],
            [
             0.8888888888888888,
             "#fdca26"
            ],
            [
             1,
             "#f0f921"
            ]
           ],
           "sequentialminus": [
            [
             0,
             "#0d0887"
            ],
            [
             0.1111111111111111,
             "#46039f"
            ],
            [
             0.2222222222222222,
             "#7201a8"
            ],
            [
             0.3333333333333333,
             "#9c179e"
            ],
            [
             0.4444444444444444,
             "#bd3786"
            ],
            [
             0.5555555555555556,
             "#d8576b"
            ],
            [
             0.6666666666666666,
             "#ed7953"
            ],
            [
             0.7777777777777778,
             "#fb9f3a"
            ],
            [
             0.8888888888888888,
             "#fdca26"
            ],
            [
             1,
             "#f0f921"
            ]
           ]
          },
          "colorway": [
           "#636efa",
           "#EF553B",
           "#00cc96",
           "#ab63fa",
           "#FFA15A",
           "#19d3f3",
           "#FF6692",
           "#B6E880",
           "#FF97FF",
           "#FECB52"
          ],
          "font": {
           "color": "#2a3f5f"
          },
          "geo": {
           "bgcolor": "white",
           "lakecolor": "white",
           "landcolor": "#E5ECF6",
           "showlakes": true,
           "showland": true,
           "subunitcolor": "white"
          },
          "hoverlabel": {
           "align": "left"
          },
          "hovermode": "closest",
          "mapbox": {
           "style": "light"
          },
          "paper_bgcolor": "white",
          "plot_bgcolor": "#E5ECF6",
          "polar": {
           "angularaxis": {
            "gridcolor": "white",
            "linecolor": "white",
            "ticks": ""
           },
           "bgcolor": "#E5ECF6",
           "radialaxis": {
            "gridcolor": "white",
            "linecolor": "white",
            "ticks": ""
           }
          },
          "scene": {
           "xaxis": {
            "backgroundcolor": "#E5ECF6",
            "gridcolor": "white",
            "gridwidth": 2,
            "linecolor": "white",
            "showbackground": true,
            "ticks": "",
            "zerolinecolor": "white"
           },
           "yaxis": {
            "backgroundcolor": "#E5ECF6",
            "gridcolor": "white",
            "gridwidth": 2,
            "linecolor": "white",
            "showbackground": true,
            "ticks": "",
            "zerolinecolor": "white"
           },
           "zaxis": {
            "backgroundcolor": "#E5ECF6",
            "gridcolor": "white",
            "gridwidth": 2,
            "linecolor": "white",
            "showbackground": true,
            "ticks": "",
            "zerolinecolor": "white"
           }
          },
          "shapedefaults": {
           "line": {
            "color": "#2a3f5f"
           }
          },
          "ternary": {
           "aaxis": {
            "gridcolor": "white",
            "linecolor": "white",
            "ticks": ""
           },
           "baxis": {
            "gridcolor": "white",
            "linecolor": "white",
            "ticks": ""
           },
           "bgcolor": "#E5ECF6",
           "caxis": {
            "gridcolor": "white",
            "linecolor": "white",
            "ticks": ""
           }
          },
          "title": {
           "x": 0.05
          },
          "xaxis": {
           "automargin": true,
           "gridcolor": "white",
           "linecolor": "white",
           "ticks": "",
           "title": {
            "standoff": 15
           },
           "zerolinecolor": "white",
           "zerolinewidth": 2
          },
          "yaxis": {
           "automargin": true,
           "gridcolor": "white",
           "linecolor": "white",
           "ticks": "",
           "title": {
            "standoff": 15
           },
           "zerolinecolor": "white",
           "zerolinewidth": 2
          }
         }
        },
        "xaxis": {
         "anchor": "y",
         "domain": [
          0,
          1
         ]
        },
        "yaxis": {
         "anchor": "x",
         "domain": [
          0,
          1
         ],
         "title": {
          "text": "Employment: Services (% of employed)"
         }
        }
       }
      }
     },
     "metadata": {},
     "output_type": "display_data"
    }
   ],
   "source": [
    "# Boxplot\n",
    "plot5 = px.box(df, y=\"Employment: Services (% of employed)\")\n",
    "plot5.show()"
   ]
  },
  {
   "cell_type": "code",
   "execution_count": 33,
   "metadata": {},
   "outputs": [
    {
     "name": "stderr",
     "output_type": "stream",
     "text": [
      "C:\\Users\\ferna\\AppData\\Local\\Temp\\ipykernel_24044\\1701133556.py:1: FutureWarning:\n",
      "\n",
      "pivot_table dropped a column because it failed to aggregate. This behavior is deprecated and will raise in a future version of pandas. Select only the columns that can be aggregated.\n",
      "\n"
     ]
    },
    {
     "data": {
      "text/plain": [
       "<Axes: ylabel='country'>"
      ]
     },
     "execution_count": 33,
     "metadata": {},
     "output_type": "execute_result"
    },
    {
     "data": {
      "image/png": "[encoded data removed]",
      "text/plain": [
       "<Figure size 640x480 with 2 Axes>"
      ]
     },
     "metadata": {},
     "output_type": "display_data"
    }
   ],
   "source": [
    "pt = pd.pivot_table(df1,index=['country'])\n",
    "pt\n",
    "sns.heatmap(pt)"
   ]
  },
  {
   "cell_type": "code",
   "execution_count": 34,
   "metadata": {},
   "outputs": [],
   "source": [
    "# country specific Analysis\n",
    "ind = df1[df1['country'] == 'India']"
   ]
  },
  {
   "cell_type": "code",
   "execution_count": 35,
   "metadata": {},
   "outputs": [
    {
     "data": {
      "text/plain": [
       "Index(['country', 'Region', 'Surface area (km2)',\n",
       "       'Population in thousands (2017)', 'Population density (per km2, 2017)',\n",
       "       'Sex ratio (m per 100 f, 2017)',\n",
       "       'GDP: Gross domestic product (million current US$)',\n",
       "       'GDP growth rate (annual %, const. 2005 prices)',\n",
       "       'GDP per capita (current US$)', 'Economy: Agriculture (% of GVA)',\n",
       "       'Economy: Industry (% of GVA)',\n",
       "       'Economy: Services and other activity (% of GVA)',\n",
       "       'Employment: Agriculture (% of employed)',\n",
       "       'Employment: Industry (% of employed)',\n",
       "       'Employment: Services (% of employed)',\n",
       "       'Life expectancy at birth (females/males, years)',\n",
       "       'CO2 emission estimates (million tons/tons per capita)'],\n",
       "      dtype='object')"
      ]
     },
     "execution_count": 35,
     "metadata": {},
     "output_type": "execute_result"
    }
   ],
   "source": [
    "ind.columns"
   ]
  },
  {
   "cell_type": "code",
   "execution_count": 39,
   "metadata": {},
   "outputs": [
    {
     "data": {
      "application/vnd.plotly.v1+json": {
       "config": {
        "plotlyServerURL": "https://plot.ly"
       },
       "data": [
        {
         "alignmentgroup": "True",
         "hovertemplate": "Region=%{x}<br>Life expectancy at birth (females/males, years)=%{y}<extra></extra>",
         "legendgroup": "",
         "marker": {
          "color": "#636efa",
          "pattern": {
           "shape": ""
          }
         },
         "name": "",
         "offsetgroup": "",
         "orientation": "v",
         "showlegend": false,
         "textposition": "auto",
         "type": "bar",
         "x": [
          "SouthernAsia",
          "SouthernEurope",
          "NorthernAfrica",
          "Polynesia",
          "SouthernEurope",
          "MiddleAfrica",
          "Caribbean",
          "Caribbean",
          "SouthAmerica",
          "WesternAsia",
          "Caribbean",
          "Oceania",
          "WesternEurope",
          "WesternAsia",
          "Caribbean",
          "WesternAsia",
          "SouthernAsia",
          "Caribbean",
          "EasternEurope",
          "WesternEurope",
          "CentralAmerica",
          "WesternAfrica",
          "NorthernAmerica",
          "SouthernAsia",
          "SouthAmerica",
          "Caribbean",
          "SouthernEurope",
          "SouthernAfrica",
          "SouthAmerica",
          "Caribbean",
          "South-easternAsia",
          "EasternEurope",
          "WesternAfrica",
          "EasternAfrica",
          "WesternAfrica",
          "South-easternAsia",
          "MiddleAfrica",
          "NorthernAmerica",
          "Caribbean",
          "MiddleAfrica",
          "MiddleAfrica",
          "NorthernEurope",
          "SouthAmerica",
          "EasternAsia",
          "EasternAsia",
          "EasternAsia",
          "SouthAmerica",
          "EasternAfrica",
          "MiddleAfrica",
          "Polynesia",
          "CentralAmerica",
          "SouthernEurope",
          "Caribbean",
          "WesternAsia",
          "EasternEurope",
          "EasternAsia",
          "MiddleAfrica",
          "NorthernEurope",
          "EasternAfrica",
          "Caribbean",
          "Caribbean",
          "SouthAmerica",
          "NorthernAfrica",
          "CentralAmerica",
          "MiddleAfrica",
          "EasternAfrica",
          "NorthernEurope",
          "EasternAfrica",
          "SouthAmerica",
          "NorthernEurope",
          "Melanesia",
          "NorthernEurope",
          "WesternEurope",
          "SouthAmerica",
          "Polynesia",
          "MiddleAfrica",
          "WesternAfrica",
          "WesternAsia",
          "WesternEurope",
          "WesternAfrica",
          "SouthernEurope",
          "SouthernEurope",
          "NorthernAmerica",
          "Caribbean",
          "Caribbean",
          "Micronesia",
          "CentralAmerica",
          "WesternAfrica",
          "WesternAfrica",
          "SouthAmerica",
          "Caribbean",
          "SouthernEurope",
          "CentralAmerica",
          "EasternEurope",
          "NorthernEurope",
          "SouthernAsia",
          "South-easternAsia",
          "SouthernAsia",
          "WesternAsia",
          "NorthernEurope",
          "NorthernEurope",
          "WesternAsia",
          "SouthernEurope",
          "Caribbean",
          "EasternAsia",
          "WesternAsia",
          "CentralAsia",
          "EasternAfrica",
          "Micronesia",
          "WesternAsia",
          "CentralAsia",
          "South-easternAsia",
          "NorthernEurope",
          "WesternAsia",
          "SouthernAfrica",
          "WesternAfrica",
          "NorthernAfrica",
          "WesternEurope",
          "NorthernEurope",
          "WesternEurope",
          "EasternAfrica",
          "EasternAfrica",
          "South-easternAsia",
          "SouthernAsia",
          "WesternAfrica",
          "SouthernEurope",
          "Micronesia",
          "Caribbean",
          "WesternAfrica",
          "EasternAfrica",
          "EasternAfrica",
          "CentralAmerica",
          "Micronesia",
          "WesternEurope",
          "EasternAsia",
          "SouthernEurope",
          "Caribbean",
          "NorthernAfrica",
          "EasternAfrica",
          "South-easternAsia",
          "SouthernAfrica",
          "Micronesia",
          "SouthernAsia",
          "WesternEurope",
          "Melanesia",
          "Oceania",
          "CentralAmerica",
          "WesternAfrica",
          "WesternAfrica",
          "Polynesia",
          "Micronesia",
          "NorthernEurope",
          "WesternAsia",
          "SouthernAsia",
          "Micronesia",
          "CentralAmerica",
          "Melanesia",
          "SouthAmerica",
          "SouthAmerica",
          "South-easternAsia",
          "EasternEurope",
          "SouthernEurope",
          "Caribbean",
          "WesternAsia",
          "EasternAsia",
          "EasternEurope",
          "EasternEurope",
          "EasternEurope",
          "EasternAfrica",
          "WesternAfrica",
          "Caribbean",
          "Caribbean",
          "NorthernAmerica",
          "Caribbean",
          "Polynesia",
          "SouthernEurope",
          "MiddleAfrica",
          "WesternAsia",
          "WesternAfrica",
          "SouthernEurope",
          "EasternAfrica",
          "WesternAfrica",
          "South-easternAsia",
          "Caribbean",
          "EasternEurope",
          "SouthernEurope",
          "Melanesia",
          "EasternAfrica",
          "SouthernAfrica",
          "EasternAfrica",
          "SouthernEurope",
          "SouthernAsia",
          "WesternAsia",
          "NorthernAfrica",
          "SouthAmerica",
          "SouthernAfrica",
          "NorthernEurope",
          "WesternEurope",
          "WesternAsia",
          "CentralAsia",
          "South-easternAsia",
          "SouthernEurope",
          "South-easternAsia",
          "WesternAfrica",
          "Polynesia",
          "Polynesia",
          "Caribbean",
          "NorthernAfrica",
          "WesternAsia",
          "CentralAsia",
          "Caribbean",
          "Polynesia",
          "EasternAfrica",
          "EasternEurope",
          "WesternAsia",
          "NorthernEurope",
          "EasternAfrica",
          "NorthernAmerica",
          "Caribbean",
          "SouthAmerica",
          "CentralAsia",
          "Melanesia",
          "SouthAmerica",
          "South-easternAsia",
          "Polynesia",
          "NorthernAfrica",
          "WesternAsia",
          "EasternAfrica",
          "EasternAfrica"
         ],
         "xaxis": "x",
         "y": [
          "63.5/61.0",
          "79.9/75.6",
          "76.5/74.1",
          "77.8/71.1",
          "-99",
          "63.0/57.4",
          ".../...",
          "78.2/73.3",
          "79.8/72.2",
          "77.0/70.6",
          "77.8/72.9",
          "84.4/80.2",
          "83.5/78.4",
          "74.6/68.6",
          "78.1/72.0",
          "77.5/75.6",
          "72.9/69.8",
          "77.7/72.9",
          "77.7/66.5",
          "83.0/78.0",
          "72.7/67.2",
          "61.4/58.5",
          "85.1/77.5",
          "68.9/68.6",
          "70.2/65.3",
          "-99",
          "78.8/73.7",
          "66.1/59.8",
          "78.4/71.0",
          ".../...",
          "78.4/75.1",
          "77.8/70.8",
          "59.3/58.0",
          "58.0/54.2",
          "74.0/70.1",
          "69.6/65.5",
          "57.7/55.1",
          "83.8/79.7",
          ".../...",
          "51.0/47.8",
          "52.8/50.5",
          "82.4/78.7",
          "81.3/76.2",
          "86.4/80.5",
          "86.2/80.3",
          "77.2/74.2",
          "77.4/70.2",
          "64.5/61.2",
          "64.1/61.0",
          "79.6/71.7",
          "81.7/76.7",
          "80.4/73.6",
          "81.3/77.1",
          "82.2/77.7",
          "81.2/75.1",
          "74.1/67.2",
          "59.5/56.7",
          "82.2/78.1",
          "63.2/60.0",
          ".../...",
          "76.4/70.2",
          "78.4/72.8",
          "73.0/68.7",
          "77.1/67.9",
          "58.4/55.5",
          "65.6/61.4",
          "81.2/71.8",
          "65.5/61.9",
          "-99",
          "84.5/78.3",
          "72.9/66.9",
          "83.7/77.7",
          "85.0/78.8",
          "82.6/76.1",
          "78.6/74.0",
          "65.8/63.1",
          "61.6/59.1",
          "77.0/68.5",
          "82.9/77.9",
          "62.6/60.7",
          ".../...",
          "83.3/78.0",
          "73.4/68.7",
          "75.6/70.8",
          "84.0/76.8",
          "81.5/76.4",
          "75.6/69.2",
          "57.7/54.3",
          "58.4/57.4",
          "68.6/64.0",
          "64.4/60.2",
          "-99",
          "75.4/70.4",
          "78.8/71.7",
          "83.8/80.6",
          "69.1/66.2",
          "70.7/66.6",
          "76.2/74.0",
          "71.4/67.0",
          "83.0/78.7",
          "-99",
          "83.7/80.0",
          "84.7/79.9",
          "77.9/73.1",
          "86.4/80.0",
          "75.5/72.2",
          "73.9/64.3",
          "67.8/63.0",
          "68.9/62.4",
          "75.5/73.5",
          "74.3/66.4",
          "66.8/63.9",
          "78.7/68.8",
          "80.9/77.3",
          "54.7/50.1",
          "61.6/59.8",
          "74.4/68.8",
          "-99",
          "79.3/68.5",
          "83.4/78.8",
          "66.0/63.0",
          "63.1/58.2",
          "77.1/72.6",
          "77.4/75.4",
          "56.9/55.6",
          "82.0/78.6",
          "72.5/71.3",
          "84.4/77.8",
          "64.1/61.2",
          "77.7/70.7",
          "82.9/76.0",
          "78.9/74.0",
          "69.8/67.7",
          "-99",
          "72.7/64.5",
          "78.8/74.0",
          "-99",
          "76.0/73.7",
          "58.1/54.0",
          "68.3/63.7",
          "64.3/59.1",
          "64.8/57.8",
          "70.4/67.4",
          "83.1/79.4",
          "79.3/73.7",
          "83.1/79.5",
          "77.5/71.4",
          "59.5/57.6",
          "52.6/51.2",
          "76.3/70.1",
          "77.9/74.9",
          "83.6/79.5",
          "78.7/74.5",
          "66.8/65.0",
          "77.8/68.1",
          "80.5/74.3",
          "67.4/62.6",
          "74.9/70.7",
          "76.8/71.5",
          "72.1/65.4",
          "81.0/72.9",
          "83.5/77.3",
          "83.2/75.2",
          "79.4/76.8",
          "84.4/77.9",
          "75.2/66.7",
          "78.4/71.4",
          "75.9/64.7",
          "67.1/63.1",
          "-99",
          "-99",
          "77.6/72.2",
          "-99",
          "74.9/70.7",
          "77.4/71.1",
          "86.4/81.7",
          "68.2/64.0",
          "75.6/72.7",
          "67.5/63.8",
          "77.5/71.8",
          "77.9/68.7",
          "50.7/49.6",
          "84.5/80.1",
          "77.1/69.2",
          "79.8/72.6",
          "83.2/77.2",
          "71.1/68.3",
          "56.5/53.3",
          "63.0/56.1",
          "56.0/54.1",
          "85.3/79.6",
          "78.0/71.2",
          "74.8/71.1",
          "65.1/62.1",
          "74.2/67.8",
          "58.2/51.6",
          "83.7/80.0",
          "84.8/80.5",
          "76.3/64.4",
          "73.5/67.7",
          "78.4/70.8",
          "77.2/73.2",
          "69.5/66.1",
          "59.8/58.3",
          "-99",
          "75.6/69.6",
          "73.8/66.9",
          "77.1/73.0",
          "78.1/71.5",
          "70.8/63.9",
          "77.8/75.8",
          ".../...",
          "60.7/56.5",
          "76.0/66.1",
          "78.2/76.0",
          "82.8/79.0",
          "64.8/60.8",
          "81.2/76.5",
          "81.5/76.7",
          "80.4/73.2",
          "73.5/68.1",
          "73.6/69.4",
          "78.2/69.9",
          "80.3/70.7",
          "78.7/72.8",
          "70.3/66.9",
          "65.6/62.8",
          "61.9/57.5",
          "59.0/56.1"
         ],
         "yaxis": "y"
        }
       ],
       "layout": {
        "barmode": "relative",
        "legend": {
         "tracegroupgap": 0
        },
        "margin": {
         "t": 60
        },
        "template": {
         "data": {
          "bar": [
           {
            "error_x": {
             "color": "#2a3f5f"
            },
            "error_y": {
             "color": "#2a3f5f"
            },
            "marker": {
             "line": {
              "color": "#E5ECF6",
              "width": 0.5
             },
             "pattern": {
              "fillmode": "overlay",
              "size": 10,
              "solidity": 0.2
             }
            },
            "type": "bar"
           }
          ],
          "barpolar": [
           {
            "marker": {
             "line": {
              "color": "#E5ECF6",
              "width": 0.5
             },
             "pattern": {
              "fillmode": "overlay",
              "size": 10,
              "solidity": 0.2
             }
            },
            "type": "barpolar"
           }
          ],
          "carpet": [
           {
            "aaxis": {
             "endlinecolor": "#2a3f5f",
             "gridcolor": "white",
             "linecolor": "white",
             "minorgridcolor": "white",
             "startlinecolor": "#2a3f5f"
            },
            "baxis": {
             "endlinecolor": "#2a3f5f",
             "gridcolor": "white",
             "linecolor": "white",
             "minorgridcolor": "white",
             "startlinecolor": "#2a3f5f"
            },
            "type": "carpet"
           }
          ],
          "choropleth": [
           {
            "colorbar": {
             "outlinewidth": 0,
             "ticks": ""
            },
            "type": "choropleth"
           }
          ],
          "contour": [
           {
            "colorbar": {
             "outlinewidth": 0,
             "ticks": ""
            },
            "colorscale": [
             [
              0,
              "#0d0887"
             ],
             [
              0.1111111111111111,
              "#46039f"
             ],
             [
              0.2222222222222222,
              "#7201a8"
             ],
             [
              0.3333333333333333,
              "#9c179e"
             ],
             [
              0.4444444444444444,
              "#bd3786"
             ],
             [
              0.5555555555555556,
              "#d8576b"
             ],
             [
              0.6666666666666666,
              "#ed7953"
             ],
             [
              0.7777777777777778,
              "#fb9f3a"
             ],
             [
              0.8888888888888888,
              "#fdca26"
             ],
             [
              1,
              "#f0f921"
             ]
            ],
            "type": "contour"
           }
          ],
          "contourcarpet": [
           {
            "colorbar": {
             "outlinewidth": 0,
             "ticks": ""
            },
            "type": "contourcarpet"
           }
          ],
          "heatmap": [
           {
            "colorbar": {
             "outlinewidth": 0,
             "ticks": ""
            },
            "colorscale": [
             [
              0,
              "#0d0887"
             ],
             [
              0.1111111111111111,
              "#46039f"
             ],
             [
              0.2222222222222222,
              "#7201a8"
             ],
             [
              0.3333333333333333,
              "#9c179e"
             ],
             [
              0.4444444444444444,
              "#bd3786"
             ],
             [
              0.5555555555555556,
              "#d8576b"
             ],
             [
              0.6666666666666666,
              "#ed7953"
             ],
             [
              0.7777777777777778,
              "#fb9f3a"
             ],
             [
              0.8888888888888888,
              "#fdca26"
             ],
             [
              1,
              "#f0f921"
             ]
            ],
            "type": "heatmap"
           }
          ],
          "heatmapgl": [
           {
            "colorbar": {
             "outlinewidth": 0,
             "ticks": ""
            },
            "colorscale": [
             [
              0,
              "#0d0887"
             ],
             [
              0.1111111111111111,
              "#46039f"
             ],
             [
              0.2222222222222222,
              "#7201a8"
             ],
             [
              0.3333333333333333,
              "#9c179e"
             ],
             [
              0.4444444444444444,
              "#bd3786"
             ],
             [
              0.5555555555555556,
              "#d8576b"
             ],
             [
              0.6666666666666666,
              "#ed7953"
             ],
             [
              0.7777777777777778,
              "#fb9f3a"
             ],
             [
              0.8888888888888888,
              "#fdca26"
             ],
             [
              1,
              "#f0f921"
             ]
            ],
            "type": "heatmapgl"
           }
          ],
          "histogram": [
           {
            "marker": {
             "pattern": {
              "fillmode": "overlay",
              "size": 10,
              "solidity": 0.2
             }
            },
            "type": "histogram"
           }
          ],
          "histogram2d": [
           {
            "colorbar": {
             "outlinewidth": 0,
             "ticks": ""
            },
            "colorscale": [
             [
              0,
              "#0d0887"
             ],
             [
              0.1111111111111111,
              "#46039f"
             ],
             [
              0.2222222222222222,
              "#7201a8"
             ],
             [
              0.3333333333333333,
              "#9c179e"
             ],
             [
              0.4444444444444444,
              "#bd3786"
             ],
             [
              0.5555555555555556,
              "#d8576b"
             ],
             [
              0.6666666666666666,
              "#ed7953"
             ],
             [
              0.7777777777777778,
              "#fb9f3a"
             ],
             [
              0.8888888888888888,
              "#fdca26"
             ],
             [
              1,
              "#f0f921"
             ]
            ],
            "type": "histogram2d"
           }
          ],
          "histogram2dcontour": [
           {
            "colorbar": {
             "outlinewidth": 0,
             "ticks": ""
            },
            "colorscale": [
             [
              0,
              "#0d0887"
             ],
             [
              0.1111111111111111,
              "#46039f"
             ],
             [
              0.2222222222222222,
              "#7201a8"
             ],
             [
              0.3333333333333333,
              "#9c179e"
             ],
             [
              0.4444444444444444,
              "#bd3786"
             ],
             [
              0.5555555555555556,
              "#d8576b"
             ],
             [
              0.6666666666666666,
              "#ed7953"
             ],
             [
              0.7777777777777778,
              "#fb9f3a"
             ],
             [
              0.8888888888888888,
              "#fdca26"
             ],
             [
              1,
              "#f0f921"
             ]
            ],
            "type": "histogram2dcontour"
           }
          ],
          "mesh3d": [
           {
            "colorbar": {
             "outlinewidth": 0,
             "ticks": ""
            },
            "type": "mesh3d"
           }
          ],
          "parcoords": [
           {
            "line": {
             "colorbar": {
              "outlinewidth": 0,
              "ticks": ""
             }
            },
            "type": "parcoords"
           }
          ],
          "pie": [
           {
            "automargin": true,
            "type": "pie"
           }
          ],
          "scatter": [
           {
            "fillpattern": {
             "fillmode": "overlay",
             "size": 10,
             "solidity": 0.2
            },
            "type": "scatter"
           }
          ],
          "scatter3d": [
           {
            "line": {
             "colorbar": {
              "outlinewidth": 0,
              "ticks": ""
             }
            },
            "marker": {
             "colorbar": {
              "outlinewidth": 0,
              "ticks": ""
             }
            },
            "type": "scatter3d"
           }
          ],
          "scattercarpet": [
           {
            "marker": {
             "colorbar": {
              "outlinewidth": 0,
              "ticks": ""
             }
            },
            "type": "scattercarpet"
           }
          ],
          "scattergeo": [
           {
            "marker": {
             "colorbar": {
              "outlinewidth": 0,
              "ticks": ""
             }
            },
            "type": "scattergeo"
           }
          ],
          "scattergl": [
           {
            "marker": {
             "colorbar": {
              "outlinewidth": 0,
              "ticks": ""
             }
            },
            "type": "scattergl"
           }
          ],
          "scattermapbox": [
           {
            "marker": {
             "colorbar": {
              "outlinewidth": 0,
              "ticks": ""
             }
            },
            "type": "scattermapbox"
           }
          ],
          "scatterpolar": [
           {
            "marker": {
             "colorbar": {
              "outlinewidth": 0,
              "ticks": ""
             }
            },
            "type": "scatterpolar"
           }
          ],
          "scatterpolargl": [
           {
            "marker": {
             "colorbar": {
              "outlinewidth": 0,
              "ticks": ""
             }
            },
            "type": "scatterpolargl"
           }
          ],
          "scatterternary": [
           {
            "marker": {
             "colorbar": {
              "outlinewidth": 0,
              "ticks": ""
             }
            },
            "type": "scatterternary"
           }
          ],
          "surface": [
           {
            "colorbar": {
             "outlinewidth": 0,
             "ticks": ""
            },
            "colorscale": [
             [
              0,
              "#0d0887"
             ],
             [
              0.1111111111111111,
              "#46039f"
             ],
             [
              0.2222222222222222,
              "#7201a8"
             ],
             [
              0.3333333333333333,
              "#9c179e"
             ],
             [
              0.4444444444444444,
              "#bd3786"
             ],
             [
              0.5555555555555556,
              "#d8576b"
             ],
             [
              0.6666666666666666,
              "#ed7953"
             ],
             [
              0.7777777777777778,
              "#fb9f3a"
             ],
             [
              0.8888888888888888,
              "#fdca26"
             ],
             [
              1,
              "#f0f921"
             ]
            ],
            "type": "surface"
           }
          ],
          "table": [
           {
            "cells": {
             "fill": {
              "color": "#EBF0F8"
             },
             "line": {
              "color": "white"
             }
            },
            "header": {
             "fill": {
              "color": "#C8D4E3"
             },
             "line": {
              "color": "white"
             }
            },
            "type": "table"
           }
          ]
         },
         "layout": {
          "annotationdefaults": {
           "arrowcolor": "#2a3f5f",
           "arrowhead": 0,
           "arrowwidth": 1
          },
          "autotypenumbers": "strict",
          "coloraxis": {
           "colorbar": {
            "outlinewidth": 0,
            "ticks": ""
           }
          },
          "colorscale": {
           "diverging": [
            [
             0,
             "#8e0152"
            ],
            [
             0.1,
             "#c51b7d"
            ],
            [
             0.2,
             "#de77ae"
            ],
            [
             0.3,
             "#f1b6da"
            ],
            [
             0.4,
             "#fde0ef"
            ],
            [
             0.5,
             "#f7f7f7"
            ],
            [
             0.6,
             "#e6f5d0"
            ],
            [
             0.7,
             "#b8e186"
            ],
            [
             0.8,
             "#7fbc41"
            ],
            [
             0.9,
             "#4d9221"
            ],
            [
             1,
             "#276419"
            ]
           ],
           "sequential": [
            [
             0,
             "#0d0887"
            ],
            [
             0.1111111111111111,
             "#46039f"
            ],
            [
             0.2222222222222222,
             "#7201a8"
            ],
            [
             0.3333333333333333,
             "#9c179e"
            ],
            [
             0.4444444444444444,
             "#bd3786"
            ],
            [
             0.5555555555555556,
             "#d8576b"
            ],
            [
             0.6666666666666666,
             "#ed7953"
            ],
            [
             0.7777777777777778,
             "#fb9f3a"
            ],
            [
             0.8888888888888888,
             "#fdca26"
            ],
            [
             1,
             "#f0f921"
            ]
           ],
           "sequentialminus": [
            [
             0,
             "#0d0887"
            ],
            [
             0.1111111111111111,
             "#46039f"
            ],
            [
             0.2222222222222222,
             "#7201a8"
            ],
            [
             0.3333333333333333,
             "#9c179e"
            ],
            [
             0.4444444444444444,
             "#bd3786"
            ],
            [
             0.5555555555555556,
             "#d8576b"
            ],
            [
             0.6666666666666666,
             "#ed7953"
            ],
            [
             0.7777777777777778,
             "#fb9f3a"
            ],
            [
             0.8888888888888888,
             "#fdca26"
            ],
            [
             1,
             "#f0f921"
            ]
           ]
          },
          "colorway": [
           "#636efa",
           "#EF553B",
           "#00cc96",
           "#ab63fa",
           "#FFA15A",
           "#19d3f3",
           "#FF6692",
           "#B6E880",
           "#FF97FF",
           "#FECB52"
          ],
          "font": {
           "color": "#2a3f5f"
          },
          "geo": {
           "bgcolor": "white",
           "lakecolor": "white",
           "landcolor": "#E5ECF6",
           "showlakes": true,
           "showland": true,
           "subunitcolor": "white"
          },
          "hoverlabel": {
           "align": "left"
          },
          "hovermode": "closest",
          "mapbox": {
           "style": "light"
          },
          "paper_bgcolor": "white",
          "plot_bgcolor": "#E5ECF6",
          "polar": {
           "angularaxis": {
            "gridcolor": "white",
            "linecolor": "white",
            "ticks": ""
           },
           "bgcolor": "#E5ECF6",
           "radialaxis": {
            "gridcolor": "white",
            "linecolor": "white",
            "ticks": ""
           }
          },
          "scene": {
           "xaxis": {
            "backgroundcolor": "#E5ECF6",
            "gridcolor": "white",
            "gridwidth": 2,
            "linecolor": "white",
            "showbackground": true,
            "ticks": "",
            "zerolinecolor": "white"
           },
           "yaxis": {
            "backgroundcolor": "#E5ECF6",
            "gridcolor": "white",
            "gridwidth": 2,
            "linecolor": "white",
            "showbackground": true,
            "ticks": "",
            "zerolinecolor": "white"
           },
           "zaxis": {
            "backgroundcolor": "#E5ECF6",
            "gridcolor": "white",
            "gridwidth": 2,
            "linecolor": "white",
            "showbackground": true,
            "ticks": "",
            "zerolinecolor": "white"
           }
          },
          "shapedefaults": {
           "line": {
            "color": "#2a3f5f"
           }
          },
          "ternary": {
           "aaxis": {
            "gridcolor": "white",
            "linecolor": "white",
            "ticks": ""
           },
           "baxis": {
            "gridcolor": "white",
            "linecolor": "white",
            "ticks": ""
           },
           "bgcolor": "#E5ECF6",
           "caxis": {
            "gridcolor": "white",
            "linecolor": "white",
            "ticks": ""
           }
          },
          "title": {
           "x": 0.05
          },
          "xaxis": {
           "automargin": true,
           "gridcolor": "white",
           "linecolor": "white",
           "ticks": "",
           "title": {
            "standoff": 15
           },
           "zerolinecolor": "white",
           "zerolinewidth": 2
          },
          "yaxis": {
           "automargin": true,
           "gridcolor": "white",
           "linecolor": "white",
           "ticks": "",
           "title": {
            "standoff": 15
           },
           "zerolinecolor": "white",
           "zerolinewidth": 2
          }
         }
        },
        "xaxis": {
         "anchor": "y",
         "domain": [
          0,
          1
         ],
         "title": {
          "text": "Region"
         }
        },
        "yaxis": {
         "anchor": "x",
         "domain": [
          0,
          1
         ],
         "title": {
          "text": "Life expectancy at birth (females/males, years)"
         }
        }
       }
      }
     },
     "metadata": {},
     "output_type": "display_data"
    }
   ],
   "source": [
    "fig = px.bar(df1,x='Region',y='Life expectancy at birth (females/males, years)')\n",
    "fig.show()"
   ]
  },
  {
   "cell_type": "code",
   "execution_count": 47,
   "metadata": {},
   "outputs": [
    {
     "data": {
      "text/plain": [
       "([0, 1, 2, 3, 4],\n",
       " [Text(0, 0, 'China'),\n",
       "  Text(1, 0, 'United States of America'),\n",
       "  Text(2, 0, 'Russian Federation'),\n",
       "  Text(3, 0, 'Saudi Arabia'),\n",
       "  Text(4, 0, 'India')])"
      ]
     },
     "execution_count": 47,
     "metadata": {},
     "output_type": "execute_result"
    },
    {
     "data": {
      "image/png": "[encoded data removed]",
      "text/plain": [
       "<Figure size 500x500 with 1 Axes>"
      ]
     },
     "metadata": {},
     "output_type": "display_data"
    }
   ],
   "source": [
    "op = df1.groupby('country')['CO2 emission estimates (million tons/tons per capita)'].sum().round().reset_index()\n",
    "op = op.sort_values('CO2 emission estimates (million tons/tons per capita)',ascending=False).head(5)\n",
    "sns.catplot(data=ans, x='country',y='CO2 emission estimates (million tons/tons per capita)')\n",
    "plt.xticks(rotation=45)"
   ]
  },
  {
   "cell_type": "code",
   "execution_count": null,
   "metadata": {},
   "outputs": [],
   "source": []
  }
 ],
 "metadata": {
  "kernelspec": {
   "display_name": "myenv",
   "language": "python",
   "name": "python3"
  },
  "language_info": {
   "codemirror_mode": {
    "name": "ipython",
    "version": 3
   },
   "file_extension": ".py",
   "mimetype": "text/x-python",
   "name": "python",
   "nbconvert_exporter": "python",
   "pygments_lexer": "ipython3",
   "version": "3.9.13"
  },
  "orig_nbformat": 4,
  "vscode": {
   "interpreter": {
    "hash": "fc47e96b6d0111ffe0f319b6d7712adbdcf5ab9c212674dbb9643f7d16e4d4df"
   }
  }
 },
 "nbformat": 4,
 "nbformat_minor": 2
}
